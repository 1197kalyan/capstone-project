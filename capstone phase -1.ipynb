{
 "cells": [
  {
   "cell_type": "code",
   "execution_count": 1,
   "id": "414f15d6",
   "metadata": {},
   "outputs": [
    {
     "name": "stdout",
     "output_type": "stream",
     "text": [
      "Requirement already satisfied: bs4 in c:\\users\\kalya\\anaconda3\\lib\\site-packages (0.0.1)\n",
      "Requirement already satisfied: beautifulsoup4 in c:\\users\\kalya\\anaconda3\\lib\\site-packages (from bs4) (4.11.1)\n",
      "Requirement already satisfied: soupsieve>1.2 in c:\\users\\kalya\\anaconda3\\lib\\site-packages (from beautifulsoup4->bs4) (2.3.1)\n",
      "Note: you may need to restart the kernel to use updated packages.\n"
     ]
    }
   ],
   "source": [
    "pip install bs4"
   ]
  },
  {
   "cell_type": "code",
   "execution_count": 2,
   "id": "fa6f6517",
   "metadata": {},
   "outputs": [
    {
     "name": "stdout",
     "output_type": "stream",
     "text": [
      "Requirement already satisfied: selenium in c:\\users\\kalya\\anaconda3\\lib\\site-packages (4.8.0)\n",
      "Requirement already satisfied: certifi>=2021.10.8 in c:\\users\\kalya\\anaconda3\\lib\\site-packages (from selenium) (2022.9.14)\n",
      "Requirement already satisfied: trio-websocket~=0.9 in c:\\users\\kalya\\anaconda3\\lib\\site-packages (from selenium) (0.9.2)\n",
      "Requirement already satisfied: trio~=0.17 in c:\\users\\kalya\\anaconda3\\lib\\site-packages (from selenium) (0.22.0)\n",
      "Requirement already satisfied: urllib3[socks]~=1.26 in c:\\users\\kalya\\anaconda3\\lib\\site-packages (from selenium) (1.26.11)\n",
      "Requirement already satisfied: attrs>=19.2.0 in c:\\users\\kalya\\anaconda3\\lib\\site-packages (from trio~=0.17->selenium) (21.4.0)\n",
      "Requirement already satisfied: sortedcontainers in c:\\users\\kalya\\anaconda3\\lib\\site-packages (from trio~=0.17->selenium) (2.4.0)\n",
      "Requirement already satisfied: sniffio in c:\\users\\kalya\\anaconda3\\lib\\site-packages (from trio~=0.17->selenium) (1.2.0)\n",
      "Requirement already satisfied: exceptiongroup>=1.0.0rc9 in c:\\users\\kalya\\anaconda3\\lib\\site-packages (from trio~=0.17->selenium) (1.1.0)\n",
      "Requirement already satisfied: idna in c:\\users\\kalya\\anaconda3\\lib\\site-packages (from trio~=0.17->selenium) (3.3)\n",
      "Requirement already satisfied: async-generator>=1.9 in c:\\users\\kalya\\anaconda3\\lib\\site-packages (from trio~=0.17->selenium) (1.10)\n",
      "Requirement already satisfied: outcome in c:\\users\\kalya\\anaconda3\\lib\\site-packages (from trio~=0.17->selenium) (1.2.0)\n",
      "Requirement already satisfied: cffi>=1.14 in c:\\users\\kalya\\anaconda3\\lib\\site-packages (from trio~=0.17->selenium) (1.15.1)\n",
      "Requirement already satisfied: wsproto>=0.14 in c:\\users\\kalya\\anaconda3\\lib\\site-packages (from trio-websocket~=0.9->selenium) (1.2.0)\n",
      "Requirement already satisfied: PySocks!=1.5.7,<2.0,>=1.5.6 in c:\\users\\kalya\\anaconda3\\lib\\site-packages (from urllib3[socks]~=1.26->selenium) (1.7.1)\n",
      "Requirement already satisfied: pycparser in c:\\users\\kalya\\anaconda3\\lib\\site-packages (from cffi>=1.14->trio~=0.17->selenium) (2.21)\n",
      "Requirement already satisfied: h11<1,>=0.9.0 in c:\\users\\kalya\\anaconda3\\lib\\site-packages (from wsproto>=0.14->trio-websocket~=0.9->selenium) (0.14.0)\n",
      "Note: you may need to restart the kernel to use updated packages.\n"
     ]
    }
   ],
   "source": [
    "pip install selenium"
   ]
  },
  {
   "cell_type": "code",
   "execution_count": 3,
   "id": "2c72891b",
   "metadata": {},
   "outputs": [
    {
     "name": "stdout",
     "output_type": "stream",
     "text": [
      "Requirement already satisfied: requests in c:\\users\\kalya\\anaconda3\\lib\\site-packages (2.28.1)\n",
      "Requirement already satisfied: charset-normalizer<3,>=2 in c:\\users\\kalya\\anaconda3\\lib\\site-packages (from requests) (2.0.4)\n",
      "Requirement already satisfied: certifi>=2017.4.17 in c:\\users\\kalya\\anaconda3\\lib\\site-packages (from requests) (2022.9.14)\n",
      "Requirement already satisfied: urllib3<1.27,>=1.21.1 in c:\\users\\kalya\\anaconda3\\lib\\site-packages (from requests) (1.26.11)\n",
      "Requirement already satisfied: idna<4,>=2.5 in c:\\users\\kalya\\anaconda3\\lib\\site-packages (from requests) (3.3)\n",
      "Note: you may need to restart the kernel to use updated packages.\n"
     ]
    }
   ],
   "source": [
    "pip install requests"
   ]
  },
  {
   "cell_type": "code",
   "execution_count": 4,
   "id": "8aa9b3e6",
   "metadata": {},
   "outputs": [],
   "source": [
    "import pandas as pd \n",
    "import selenium\n",
    "from bs4 import BeautifulSoup\n",
    "from selenium.common.exceptions import StaleElementReferenceException, NoSuchElementException"
   ]
  },
  {
   "cell_type": "code",
   "execution_count": 5,
   "id": "2e6c9e21",
   "metadata": {},
   "outputs": [],
   "source": [
    "from selenium import webdriver\n",
    "import warnings\n",
    "warnings.filterwarnings('ignore')\n",
    "from selenium.webdriver.common.by import By\n",
    "import time"
   ]
  },
  {
   "cell_type": "code",
   "execution_count": 6,
   "id": "9ab08f6f",
   "metadata": {},
   "outputs": [],
   "source": [
    "mov_sno=[]\n",
    "mov_name=[]\n",
    "mov_director=[]\n",
    "mov_duration=[]\n",
    "mov_year=[]\n",
    "mov_rating=[]\n",
    "mov_metascore=[]"
   ]
  },
  {
   "cell_type": "code",
   "execution_count": 7,
   "id": "65e8557d",
   "metadata": {},
   "outputs": [
    {
     "name": "stdout",
     "output_type": "stream",
     "text": [
      "['The Dark Knight', 'The Lord of the Rings: The Return of the King', 'Spider-Man: Across the Spider-Verse', 'Inception', 'The Lord of the Rings: The Fellowship of the Ring', 'The Lord of the Rings: The Two Towers', 'The Matrix', 'Star Wars: Episode V - The Empire Strikes Back', 'Soorarai Pottru', 'Terminator 2: Judgment Day', 'Star Wars: Episode IV - A New Hope', 'Seven Samurai', 'Harakiri', 'Sita Ramam', 'Gladiator', 'Léon: The Professional', 'Raiders of the Lost Ark', 'Spider-Man: Into the Spider-Verse', 'Avengers: Endgame', 'Aliens', 'Oldboy', 'The Dark Knight Rises', 'Avengers: Infinity War', 'Kaithi', 'Asuran', 'Top Gun: Maverick', 'Heat', 'Star Wars: Episode VI - Return of the Jedi', 'Princess Mononoke', 'North by Northwest', 'Dangal', 'Kantara', 'K.G.F: Chapter 2', 'Vikram', 'Shershaah', 'Raatchasan', 'Indiana Jones and the Last Crusade', 'Spider-Man: No Way Home', 'Jurassic Park', 'Batman Begins', '1917', 'Die Hard', 'Kill Bill: Vol. 1', 'V for Vendetta', 'Ran', 'Demon Slayer the Movie: Mugen Train', 'Gangs of Wasseypur', 'Baahubali 2: The Conclusion', 'Yojimbo', 'Uri: The Surgical Strike']\n",
      "['1.', '2.', '3.', '4.', '5.', '6.', '7.', '8.', '9.', '10.', '11.', '12.', '13.', '14.', '15.', '16.', '17.', '18.', '19.', '20.', '21.', '22.', '23.', '24.', '25.', '26.', '27.', '28.', '29.', '30.', '31.', '32.', '33.', '34.', '35.', '36.', '37.', '38.', '39.', '40.', '41.', '42.', '43.', '44.', '45.', '46.', '47.', '48.', '49.', '50.']\n"
     ]
    }
   ],
   "source": [
    "from selenium import webdriver\n",
    "import time\n",
    "from selenium.webdriver.common.by import By\n",
    "\n",
    "driver = webdriver.Chrome()\n",
    "\n",
    "driver.get(\"https://www.imdb.com/search/title/?genres=action&sort=user_rating,desc&title_type=feature&num_votes=25000,&pf_rd_m=A2FGELUUNOQJNL&pf_rd_p=f11158cc-b50b-4c4d-b0a2-40b32863395b&pf_rd_r=XZ8X52H1R40B7KG5SNZ9&pf_rd_s=right-6&pf_rd_t=15506&pf_rd_i=top&ref_=chttp_gnr_1\")\n",
    "data=[]\n",
    "name_tags = driver.find_elements(By.XPATH, \"//h3[@class='lister-item-header']/a\")\n",
    "mov_name = []\n",
    "for i in name_tags:\n",
    "    name = i.text\n",
    "    mov_name.append(name)\n",
    "\n",
    "print(mov_name)\n",
    "\n",
    "sno_tags=driver.find_elements(By.XPATH,\"//span[@class='lister-item-index unbold text-primary']\")\n",
    "for i  in sno_tags[0:]:\n",
    "    sno=i.text\n",
    "    mov_sno.append(sno)\n",
    "print(mov_sno)\n",
    "\n",
    "time.sleep(5)\n"
   ]
  },
  {
   "cell_type": "code",
   "execution_count": 8,
   "id": "71710c94",
   "metadata": {},
   "outputs": [
    {
     "name": "stdout",
     "output_type": "stream",
     "text": [
      "['152 min', '201 min', '140 min', '148 min', '178 min', '179 min', '136 min', '124 min', '153 min', '137 min', '121 min', '207 min', '133 min', '163 min', '155 min', '110 min', '115 min', '117 min', '181 min', '137 min', '101 min', '164 min', '149 min', '145 min', '141 min', '130 min', '170 min', '131 min', '134 min', '136 min', '161 min', '148 min', '168 min', '175 min', '135 min', '170 min', '127 min', '148 min', '127 min', '140 min', '119 min', '132 min', '111 min', '132 min', '162 min', '117 min', '321 min', '167 min', '110 min', '138 min']\n"
     ]
    }
   ],
   "source": [
    "data=[]\n",
    "duration_tags=driver.find_elements(By.XPATH,\"//span[@class='runtime']\")\n",
    "for i in duration_tags:\n",
    "    duration=i.text\n",
    "    mov_duration.append(duration)\n",
    "print(mov_duration)    "
   ]
  },
  {
   "cell_type": "code",
   "execution_count": 9,
   "id": "a1db029b",
   "metadata": {},
   "outputs": [
    {
     "name": "stdout",
     "output_type": "stream",
     "text": [
      "['(2008)', '(2003)', '(2023)', '(2010)', '(2001)', '(2002)', '(1999)', '(1980)', '(2020)', '(1991)', '(1977)', '(1954)', '(1962)', '(2022)', '(2000)', '(1994)', '(1981)', '(2018)', '(2019)', '(1986)', '(2003)', '(2012)', '(2018)', '(2019)', '(2019)', '(2022)', '(1995)', '(1983)', '(1997)', '(1959)', '(2016)', '(2022)', '(2022)', '(2022)', '(2021)', '(2018)', '(1989)', '(2021)', '(1993)', '(2005)', '(2019)', '(1988)', '(2003)', '(2005)', '(1985)', '(2020)', '(2012)', '(2017)', '(1961)', '(2019)']\n"
     ]
    }
   ],
   "source": [
    "data=[]\n",
    "year_tags=driver.find_elements(By.XPATH,\"//span[@class='lister-item-year text-muted unbold']\")\n",
    "for i in year_tags:\n",
    "    year=i.text\n",
    "    mov_year.append(year)\n",
    "print(mov_year)    "
   ]
  },
  {
   "cell_type": "code",
   "execution_count": 10,
   "id": "912c5836",
   "metadata": {},
   "outputs": [
    {
     "name": "stdout",
     "output_type": "stream",
     "text": [
      "['9.0', '9.0', '8.9', '8.8', '8.8', '8.8', '8.7', '8.7', '8.7', '8.6', '8.6', '8.6', '8.6', '8.6', '8.5', '8.5', '8.4', '8.4', '8.4', '8.4', '8.4', '8.4', '8.4', '8.4', '8.4', '8.3', '8.3', '8.3', '8.3', '8.3', '8.3', '8.3', '8.3', '8.3', '8.3', '8.3', '8.2', '8.2', '8.2', '8.2', '8.2', '8.2', '8.2', '8.2', '8.2', '8.2', '8.2', '8.2', '8.2', '8.2']\n"
     ]
    }
   ],
   "source": [
    "data=[]\n",
    "rating_tags=driver.find_elements(By.XPATH,\"//div[@class='inline-block ratings-imdb-rating']\")\n",
    "for i in rating_tags:\n",
    "    rating = i.text\n",
    "    rating = rating.split(\" \")[0]\n",
    "    mov_rating.append(rating)\n",
    "\n",
    "print(mov_rating)"
   ]
  },
  {
   "cell_type": "code",
   "execution_count": 11,
   "id": "09dd786a",
   "metadata": {},
   "outputs": [
    {
     "name": "stdout",
     "output_type": "stream",
     "text": [
      "[]\n"
     ]
    }
   ],
   "source": [
    "director_tags = driver.find_elements(By.XPATH, \"//span[@itemprop='director']/p\")\n",
    "for i in director_tags:\n",
    "    director= i.text\n",
    "    mov_director.append(director)\n",
    "print(mov_director)"
   ]
  },
  {
   "cell_type": "code",
   "execution_count": 12,
   "id": "2f03d3a0",
   "metadata": {},
   "outputs": [
    {
     "name": "stdout",
     "output_type": "stream",
     "text": [
      "['84', '94', '86', '74', '92', '87', '73', '82', '75', '90', '98', '85', '67', '64', '85', '87', '78', '84', '77', '78', '68', '78', '76', '76', '98', '65', '71', '68', '70', '78', '72', '69', '62', '97', '72', '89', '93']\n"
     ]
    }
   ],
   "source": [
    "data=[]\n",
    "metascore_tags=driver.find_elements(By.XPATH,\"//span[@class='metascore  favorable']\")\n",
    "for i in metascore_tags:\n",
    "    metascore=i.text\n",
    "    mov_metascore.append(metascore)\n",
    "print(mov_metascore)    \n"
   ]
  },
  {
   "cell_type": "code",
   "execution_count": 13,
   "id": "1943da45",
   "metadata": {},
   "outputs": [
    {
     "name": "stdout",
     "output_type": "stream",
     "text": [
      "[]\n"
     ]
    }
   ],
   "source": [
    "director_tags=driver.find_elements(By.XPATH,\"//span[@itemprop='director']/span[@itemprop='name']/a\")\n",
    "for i in director_tags:\n",
    "    director=i.text\n",
    "    mov_director.append(director)\n",
    "print(mov_director)    "
   ]
  },
  {
   "cell_type": "code",
   "execution_count": 14,
   "id": "f93c3aed",
   "metadata": {},
   "outputs": [],
   "source": [
    "data.append({\n",
    "        'S.No': mov_sno,\n",
    "        'MOVIE_NAME' : mov_name,\n",
    "        'DURATION': mov_duration,\n",
    "        'Year': mov_year,\n",
    "        'Rating': mov_rating,\n",
    "        'METASCORE': mov_metascore\n",
    "    })\n",
    "driver.quit()\n",
    "df = pd.DataFrame(data)\n",
    "output_file = \"imdb_movies.csv1\"\n",
    "df.to_csv(output_file, index=False)   "
   ]
  },
  {
   "cell_type": "code",
   "execution_count": 15,
   "id": "11b5cef7",
   "metadata": {},
   "outputs": [
    {
     "name": "stdout",
     "output_type": "stream",
     "text": [
      "Data successfully saved to imdb_movies.csv1\n"
     ]
    }
   ],
   "source": [
    "print(f\"Data successfully saved to {output_file}\")"
   ]
  },
  {
   "cell_type": "code",
   "execution_count": 16,
   "id": "06ee66ac",
   "metadata": {},
   "outputs": [
    {
     "name": "stdout",
     "output_type": "stream",
     "text": [
      "Data successfully saved to imdb_movies.csv1\n"
     ]
    }
   ],
   "source": [
    "import pandas as pd \n",
    "csv_file = \"imdb_movies.csv1\"\n",
    "df = pd.read_csv(csv_file)\n",
    "df=pd.DataFrame({'Sno':mov_sno[0:37],'Movie_name':mov_name[0:37],'Duration':mov_duration[0:37],'Year':mov_year[0:37],'Rating':mov_rating[0:37],'Metascore':mov_metascore[0:37]})\n",
    "output_file = \"imdb_movies.csv1\"\n",
    "df.to_csv(output_file, index=False)   \n",
    "print(f\"Data successfully saved to {output_file}\")"
   ]
  },
  {
   "cell_type": "code",
   "execution_count": 17,
   "id": "8fe992bd",
   "metadata": {},
   "outputs": [],
   "source": [
    "k=pd.read_csv(\"imdb_movies.csv1\")"
   ]
  },
  {
   "cell_type": "code",
   "execution_count": 18,
   "id": "d46941af",
   "metadata": {},
   "outputs": [
    {
     "data": {
      "text/html": [
       "<div>\n",
       "<style scoped>\n",
       "    .dataframe tbody tr th:only-of-type {\n",
       "        vertical-align: middle;\n",
       "    }\n",
       "\n",
       "    .dataframe tbody tr th {\n",
       "        vertical-align: top;\n",
       "    }\n",
       "\n",
       "    .dataframe thead th {\n",
       "        text-align: right;\n",
       "    }\n",
       "</style>\n",
       "<table border=\"1\" class=\"dataframe\">\n",
       "  <thead>\n",
       "    <tr style=\"text-align: right;\">\n",
       "      <th></th>\n",
       "      <th>Sno</th>\n",
       "      <th>Movie_name</th>\n",
       "      <th>Duration</th>\n",
       "      <th>Year</th>\n",
       "      <th>Rating</th>\n",
       "      <th>Metascore</th>\n",
       "    </tr>\n",
       "  </thead>\n",
       "  <tbody>\n",
       "    <tr>\n",
       "      <th>0</th>\n",
       "      <td>1.0</td>\n",
       "      <td>The Dark Knight</td>\n",
       "      <td>152 min</td>\n",
       "      <td>(2008)</td>\n",
       "      <td>9.0</td>\n",
       "      <td>84</td>\n",
       "    </tr>\n",
       "    <tr>\n",
       "      <th>1</th>\n",
       "      <td>2.0</td>\n",
       "      <td>The Lord of the Rings: The Return of the King</td>\n",
       "      <td>201 min</td>\n",
       "      <td>(2003)</td>\n",
       "      <td>9.0</td>\n",
       "      <td>94</td>\n",
       "    </tr>\n",
       "    <tr>\n",
       "      <th>2</th>\n",
       "      <td>3.0</td>\n",
       "      <td>Spider-Man: Across the Spider-Verse</td>\n",
       "      <td>140 min</td>\n",
       "      <td>(2023)</td>\n",
       "      <td>8.9</td>\n",
       "      <td>86</td>\n",
       "    </tr>\n",
       "    <tr>\n",
       "      <th>3</th>\n",
       "      <td>4.0</td>\n",
       "      <td>Inception</td>\n",
       "      <td>148 min</td>\n",
       "      <td>(2010)</td>\n",
       "      <td>8.8</td>\n",
       "      <td>74</td>\n",
       "    </tr>\n",
       "    <tr>\n",
       "      <th>4</th>\n",
       "      <td>5.0</td>\n",
       "      <td>The Lord of the Rings: The Fellowship of the Ring</td>\n",
       "      <td>178 min</td>\n",
       "      <td>(2001)</td>\n",
       "      <td>8.8</td>\n",
       "      <td>92</td>\n",
       "    </tr>\n",
       "    <tr>\n",
       "      <th>5</th>\n",
       "      <td>6.0</td>\n",
       "      <td>The Lord of the Rings: The Two Towers</td>\n",
       "      <td>179 min</td>\n",
       "      <td>(2002)</td>\n",
       "      <td>8.8</td>\n",
       "      <td>87</td>\n",
       "    </tr>\n",
       "    <tr>\n",
       "      <th>6</th>\n",
       "      <td>7.0</td>\n",
       "      <td>The Matrix</td>\n",
       "      <td>136 min</td>\n",
       "      <td>(1999)</td>\n",
       "      <td>8.7</td>\n",
       "      <td>73</td>\n",
       "    </tr>\n",
       "    <tr>\n",
       "      <th>7</th>\n",
       "      <td>8.0</td>\n",
       "      <td>Star Wars: Episode V - The Empire Strikes Back</td>\n",
       "      <td>124 min</td>\n",
       "      <td>(1980)</td>\n",
       "      <td>8.7</td>\n",
       "      <td>82</td>\n",
       "    </tr>\n",
       "    <tr>\n",
       "      <th>8</th>\n",
       "      <td>9.0</td>\n",
       "      <td>Soorarai Pottru</td>\n",
       "      <td>153 min</td>\n",
       "      <td>(2020)</td>\n",
       "      <td>8.7</td>\n",
       "      <td>75</td>\n",
       "    </tr>\n",
       "    <tr>\n",
       "      <th>9</th>\n",
       "      <td>10.0</td>\n",
       "      <td>Terminator 2: Judgment Day</td>\n",
       "      <td>137 min</td>\n",
       "      <td>(1991)</td>\n",
       "      <td>8.6</td>\n",
       "      <td>90</td>\n",
       "    </tr>\n",
       "    <tr>\n",
       "      <th>10</th>\n",
       "      <td>11.0</td>\n",
       "      <td>Star Wars: Episode IV - A New Hope</td>\n",
       "      <td>121 min</td>\n",
       "      <td>(1977)</td>\n",
       "      <td>8.6</td>\n",
       "      <td>98</td>\n",
       "    </tr>\n",
       "    <tr>\n",
       "      <th>11</th>\n",
       "      <td>12.0</td>\n",
       "      <td>Seven Samurai</td>\n",
       "      <td>207 min</td>\n",
       "      <td>(1954)</td>\n",
       "      <td>8.6</td>\n",
       "      <td>85</td>\n",
       "    </tr>\n",
       "    <tr>\n",
       "      <th>12</th>\n",
       "      <td>13.0</td>\n",
       "      <td>Harakiri</td>\n",
       "      <td>133 min</td>\n",
       "      <td>(1962)</td>\n",
       "      <td>8.6</td>\n",
       "      <td>67</td>\n",
       "    </tr>\n",
       "    <tr>\n",
       "      <th>13</th>\n",
       "      <td>14.0</td>\n",
       "      <td>Sita Ramam</td>\n",
       "      <td>163 min</td>\n",
       "      <td>(2022)</td>\n",
       "      <td>8.6</td>\n",
       "      <td>64</td>\n",
       "    </tr>\n",
       "    <tr>\n",
       "      <th>14</th>\n",
       "      <td>15.0</td>\n",
       "      <td>Gladiator</td>\n",
       "      <td>155 min</td>\n",
       "      <td>(2000)</td>\n",
       "      <td>8.5</td>\n",
       "      <td>85</td>\n",
       "    </tr>\n",
       "    <tr>\n",
       "      <th>15</th>\n",
       "      <td>16.0</td>\n",
       "      <td>Léon: The Professional</td>\n",
       "      <td>110 min</td>\n",
       "      <td>(1994)</td>\n",
       "      <td>8.5</td>\n",
       "      <td>87</td>\n",
       "    </tr>\n",
       "    <tr>\n",
       "      <th>16</th>\n",
       "      <td>17.0</td>\n",
       "      <td>Raiders of the Lost Ark</td>\n",
       "      <td>115 min</td>\n",
       "      <td>(1981)</td>\n",
       "      <td>8.4</td>\n",
       "      <td>78</td>\n",
       "    </tr>\n",
       "    <tr>\n",
       "      <th>17</th>\n",
       "      <td>18.0</td>\n",
       "      <td>Spider-Man: Into the Spider-Verse</td>\n",
       "      <td>117 min</td>\n",
       "      <td>(2018)</td>\n",
       "      <td>8.4</td>\n",
       "      <td>84</td>\n",
       "    </tr>\n",
       "    <tr>\n",
       "      <th>18</th>\n",
       "      <td>19.0</td>\n",
       "      <td>Avengers: Endgame</td>\n",
       "      <td>181 min</td>\n",
       "      <td>(2019)</td>\n",
       "      <td>8.4</td>\n",
       "      <td>77</td>\n",
       "    </tr>\n",
       "    <tr>\n",
       "      <th>19</th>\n",
       "      <td>20.0</td>\n",
       "      <td>Aliens</td>\n",
       "      <td>137 min</td>\n",
       "      <td>(1986)</td>\n",
       "      <td>8.4</td>\n",
       "      <td>78</td>\n",
       "    </tr>\n",
       "    <tr>\n",
       "      <th>20</th>\n",
       "      <td>21.0</td>\n",
       "      <td>Oldboy</td>\n",
       "      <td>101 min</td>\n",
       "      <td>(2003)</td>\n",
       "      <td>8.4</td>\n",
       "      <td>68</td>\n",
       "    </tr>\n",
       "    <tr>\n",
       "      <th>21</th>\n",
       "      <td>22.0</td>\n",
       "      <td>The Dark Knight Rises</td>\n",
       "      <td>164 min</td>\n",
       "      <td>(2012)</td>\n",
       "      <td>8.4</td>\n",
       "      <td>78</td>\n",
       "    </tr>\n",
       "    <tr>\n",
       "      <th>22</th>\n",
       "      <td>23.0</td>\n",
       "      <td>Avengers: Infinity War</td>\n",
       "      <td>149 min</td>\n",
       "      <td>(2018)</td>\n",
       "      <td>8.4</td>\n",
       "      <td>76</td>\n",
       "    </tr>\n",
       "    <tr>\n",
       "      <th>23</th>\n",
       "      <td>24.0</td>\n",
       "      <td>Kaithi</td>\n",
       "      <td>145 min</td>\n",
       "      <td>(2019)</td>\n",
       "      <td>8.4</td>\n",
       "      <td>76</td>\n",
       "    </tr>\n",
       "    <tr>\n",
       "      <th>24</th>\n",
       "      <td>25.0</td>\n",
       "      <td>Asuran</td>\n",
       "      <td>141 min</td>\n",
       "      <td>(2019)</td>\n",
       "      <td>8.4</td>\n",
       "      <td>98</td>\n",
       "    </tr>\n",
       "    <tr>\n",
       "      <th>25</th>\n",
       "      <td>26.0</td>\n",
       "      <td>Top Gun: Maverick</td>\n",
       "      <td>130 min</td>\n",
       "      <td>(2022)</td>\n",
       "      <td>8.3</td>\n",
       "      <td>65</td>\n",
       "    </tr>\n",
       "    <tr>\n",
       "      <th>26</th>\n",
       "      <td>27.0</td>\n",
       "      <td>Heat</td>\n",
       "      <td>170 min</td>\n",
       "      <td>(1995)</td>\n",
       "      <td>8.3</td>\n",
       "      <td>71</td>\n",
       "    </tr>\n",
       "    <tr>\n",
       "      <th>27</th>\n",
       "      <td>28.0</td>\n",
       "      <td>Star Wars: Episode VI - Return of the Jedi</td>\n",
       "      <td>131 min</td>\n",
       "      <td>(1983)</td>\n",
       "      <td>8.3</td>\n",
       "      <td>68</td>\n",
       "    </tr>\n",
       "    <tr>\n",
       "      <th>28</th>\n",
       "      <td>29.0</td>\n",
       "      <td>Princess Mononoke</td>\n",
       "      <td>134 min</td>\n",
       "      <td>(1997)</td>\n",
       "      <td>8.3</td>\n",
       "      <td>70</td>\n",
       "    </tr>\n",
       "    <tr>\n",
       "      <th>29</th>\n",
       "      <td>30.0</td>\n",
       "      <td>North by Northwest</td>\n",
       "      <td>136 min</td>\n",
       "      <td>(1959)</td>\n",
       "      <td>8.3</td>\n",
       "      <td>78</td>\n",
       "    </tr>\n",
       "    <tr>\n",
       "      <th>30</th>\n",
       "      <td>31.0</td>\n",
       "      <td>Dangal</td>\n",
       "      <td>161 min</td>\n",
       "      <td>(2016)</td>\n",
       "      <td>8.3</td>\n",
       "      <td>72</td>\n",
       "    </tr>\n",
       "    <tr>\n",
       "      <th>31</th>\n",
       "      <td>32.0</td>\n",
       "      <td>Kantara</td>\n",
       "      <td>148 min</td>\n",
       "      <td>(2022)</td>\n",
       "      <td>8.3</td>\n",
       "      <td>69</td>\n",
       "    </tr>\n",
       "    <tr>\n",
       "      <th>32</th>\n",
       "      <td>33.0</td>\n",
       "      <td>K.G.F: Chapter 2</td>\n",
       "      <td>168 min</td>\n",
       "      <td>(2022)</td>\n",
       "      <td>8.3</td>\n",
       "      <td>62</td>\n",
       "    </tr>\n",
       "    <tr>\n",
       "      <th>33</th>\n",
       "      <td>34.0</td>\n",
       "      <td>Vikram</td>\n",
       "      <td>175 min</td>\n",
       "      <td>(2022)</td>\n",
       "      <td>8.3</td>\n",
       "      <td>97</td>\n",
       "    </tr>\n",
       "    <tr>\n",
       "      <th>34</th>\n",
       "      <td>35.0</td>\n",
       "      <td>Shershaah</td>\n",
       "      <td>135 min</td>\n",
       "      <td>(2021)</td>\n",
       "      <td>8.3</td>\n",
       "      <td>72</td>\n",
       "    </tr>\n",
       "    <tr>\n",
       "      <th>35</th>\n",
       "      <td>36.0</td>\n",
       "      <td>Raatchasan</td>\n",
       "      <td>170 min</td>\n",
       "      <td>(2018)</td>\n",
       "      <td>8.3</td>\n",
       "      <td>89</td>\n",
       "    </tr>\n",
       "    <tr>\n",
       "      <th>36</th>\n",
       "      <td>37.0</td>\n",
       "      <td>Indiana Jones and the Last Crusade</td>\n",
       "      <td>127 min</td>\n",
       "      <td>(1989)</td>\n",
       "      <td>8.2</td>\n",
       "      <td>93</td>\n",
       "    </tr>\n",
       "  </tbody>\n",
       "</table>\n",
       "</div>"
      ],
      "text/plain": [
       "     Sno                                         Movie_name Duration    Year  \\\n",
       "0    1.0                                    The Dark Knight  152 min  (2008)   \n",
       "1    2.0      The Lord of the Rings: The Return of the King  201 min  (2003)   \n",
       "2    3.0                Spider-Man: Across the Spider-Verse  140 min  (2023)   \n",
       "3    4.0                                          Inception  148 min  (2010)   \n",
       "4    5.0  The Lord of the Rings: The Fellowship of the Ring  178 min  (2001)   \n",
       "5    6.0              The Lord of the Rings: The Two Towers  179 min  (2002)   \n",
       "6    7.0                                         The Matrix  136 min  (1999)   \n",
       "7    8.0     Star Wars: Episode V - The Empire Strikes Back  124 min  (1980)   \n",
       "8    9.0                                    Soorarai Pottru  153 min  (2020)   \n",
       "9   10.0                         Terminator 2: Judgment Day  137 min  (1991)   \n",
       "10  11.0                 Star Wars: Episode IV - A New Hope  121 min  (1977)   \n",
       "11  12.0                                      Seven Samurai  207 min  (1954)   \n",
       "12  13.0                                           Harakiri  133 min  (1962)   \n",
       "13  14.0                                         Sita Ramam  163 min  (2022)   \n",
       "14  15.0                                          Gladiator  155 min  (2000)   \n",
       "15  16.0                             Léon: The Professional  110 min  (1994)   \n",
       "16  17.0                            Raiders of the Lost Ark  115 min  (1981)   \n",
       "17  18.0                  Spider-Man: Into the Spider-Verse  117 min  (2018)   \n",
       "18  19.0                                  Avengers: Endgame  181 min  (2019)   \n",
       "19  20.0                                             Aliens  137 min  (1986)   \n",
       "20  21.0                                             Oldboy  101 min  (2003)   \n",
       "21  22.0                              The Dark Knight Rises  164 min  (2012)   \n",
       "22  23.0                             Avengers: Infinity War  149 min  (2018)   \n",
       "23  24.0                                             Kaithi  145 min  (2019)   \n",
       "24  25.0                                             Asuran  141 min  (2019)   \n",
       "25  26.0                                  Top Gun: Maverick  130 min  (2022)   \n",
       "26  27.0                                               Heat  170 min  (1995)   \n",
       "27  28.0         Star Wars: Episode VI - Return of the Jedi  131 min  (1983)   \n",
       "28  29.0                                  Princess Mononoke  134 min  (1997)   \n",
       "29  30.0                                 North by Northwest  136 min  (1959)   \n",
       "30  31.0                                             Dangal  161 min  (2016)   \n",
       "31  32.0                                            Kantara  148 min  (2022)   \n",
       "32  33.0                                   K.G.F: Chapter 2  168 min  (2022)   \n",
       "33  34.0                                             Vikram  175 min  (2022)   \n",
       "34  35.0                                          Shershaah  135 min  (2021)   \n",
       "35  36.0                                         Raatchasan  170 min  (2018)   \n",
       "36  37.0                 Indiana Jones and the Last Crusade  127 min  (1989)   \n",
       "\n",
       "    Rating  Metascore  \n",
       "0      9.0         84  \n",
       "1      9.0         94  \n",
       "2      8.9         86  \n",
       "3      8.8         74  \n",
       "4      8.8         92  \n",
       "5      8.8         87  \n",
       "6      8.7         73  \n",
       "7      8.7         82  \n",
       "8      8.7         75  \n",
       "9      8.6         90  \n",
       "10     8.6         98  \n",
       "11     8.6         85  \n",
       "12     8.6         67  \n",
       "13     8.6         64  \n",
       "14     8.5         85  \n",
       "15     8.5         87  \n",
       "16     8.4         78  \n",
       "17     8.4         84  \n",
       "18     8.4         77  \n",
       "19     8.4         78  \n",
       "20     8.4         68  \n",
       "21     8.4         78  \n",
       "22     8.4         76  \n",
       "23     8.4         76  \n",
       "24     8.4         98  \n",
       "25     8.3         65  \n",
       "26     8.3         71  \n",
       "27     8.3         68  \n",
       "28     8.3         70  \n",
       "29     8.3         78  \n",
       "30     8.3         72  \n",
       "31     8.3         69  \n",
       "32     8.3         62  \n",
       "33     8.3         97  \n",
       "34     8.3         72  \n",
       "35     8.3         89  \n",
       "36     8.2         93  "
      ]
     },
     "execution_count": 18,
     "metadata": {},
     "output_type": "execute_result"
    }
   ],
   "source": [
    "k"
   ]
  },
  {
   "cell_type": "code",
   "execution_count": null,
   "id": "f22b45ec",
   "metadata": {},
   "outputs": [],
   "source": []
  },
  {
   "cell_type": "code",
   "execution_count": null,
   "id": "91ec842e",
   "metadata": {},
   "outputs": [],
   "source": []
  },
  {
   "cell_type": "code",
   "execution_count": 1,
   "id": "259600c5",
   "metadata": {},
   "outputs": [],
   "source": [
    "import pandas as pd\n",
    "data=[]\n",
    "mov_name=[]\n",
    "mov_stars=[]\n",
    "mov_votes=[]\n",
    "\n",
    "mov_genre=[]\n",
    "mov_gross=[]\n",
    "mov_popularity=[]\n",
    "mov_certificates=[]"
   ]
  },
  {
   "cell_type": "code",
   "execution_count": 2,
   "id": "610055cc",
   "metadata": {},
   "outputs": [],
   "source": [
    "from selenium import webdriver\n",
    "import time\n",
    "from selenium.webdriver.common.by import By\n",
    "\n",
    "driver = webdriver.Chrome()\n",
    "\n",
    "\n",
    "\n",
    "driver.get(\"https://www.imdb.com/search/title/?genres=action&sort=user_rating,desc&title_type=feature&num_votes=25000,&pf_rd_m=A2FGELUUNOQJNL&pf_rd_p=f11158cc-b50b-4c4d-b0a2-40b32863395b&pf_rd_r=XZ8X52H1R40B7KG5SNZ9&pf_rd_s=right-6&pf_rd_t=15506&pf_rd_i=top&ref_=chttp_gnr_1\")\n",
    "data=[]"
   ]
  },
  {
   "cell_type": "code",
   "execution_count": 3,
   "id": "2b82e580",
   "metadata": {},
   "outputs": [
    {
     "name": "stdout",
     "output_type": "stream",
     "text": [
      "['The Dark Knight', 'The Lord of the Rings: The Return of the King', 'Spider-Man: Across the Spider-Verse', 'Inception', 'The Lord of the Rings: The Fellowship of the Ring', 'The Lord of the Rings: The Two Towers', 'The Matrix', 'Star Wars: Episode V - The Empire Strikes Back', 'Soorarai Pottru', 'Terminator 2: Judgment Day', 'Star Wars: Episode IV - A New Hope', 'Seven Samurai', 'Harakiri', 'Sita Ramam', 'Gladiator', 'Léon: The Professional', 'Raiders of the Lost Ark', 'Spider-Man: Into the Spider-Verse', 'Avengers: Endgame', 'Aliens', 'Oldboy', 'The Dark Knight Rises', 'Avengers: Infinity War', 'Kaithi', 'Asuran', 'Top Gun: Maverick', 'Heat', 'Star Wars: Episode VI - Return of the Jedi', 'Princess Mononoke', 'North by Northwest', 'Dangal', 'Kantara', 'K.G.F: Chapter 2', 'Vikram', 'Shershaah', 'Raatchasan', 'Indiana Jones and the Last Crusade', 'Spider-Man: No Way Home', 'Jurassic Park', 'Batman Begins', '1917', 'Die Hard', 'Kill Bill: Vol. 1', 'V for Vendetta', 'Ran', 'Demon Slayer the Movie: Mugen Train', 'Gangs of Wasseypur', 'Baahubali 2: The Conclusion', 'Yojimbo', 'Uri: The Surgical Strike']\n"
     ]
    }
   ],
   "source": [
    "data=[]\n",
    "name_tags = driver.find_elements(By.XPATH, \"//h3[@class='lister-item-header']/a\")\n",
    "movi_name = []\n",
    "for i in name_tags:\n",
    "    name = i.text\n",
    "    mov_name.append(name)\n",
    "time.sleep(5)\n",
    "print(mov_name)"
   ]
  },
  {
   "cell_type": "code",
   "execution_count": 4,
   "id": "b1c7fcc2",
   "metadata": {},
   "outputs": [
    {
     "data": {
      "text/plain": [
       "50"
      ]
     },
     "execution_count": 4,
     "metadata": {},
     "output_type": "execute_result"
    }
   ],
   "source": [
    "len(mov_name)"
   ]
  },
  {
   "cell_type": "code",
   "execution_count": 5,
   "id": "96440ba7",
   "metadata": {},
   "outputs": [
    {
     "name": "stdout",
     "output_type": "stream",
     "text": [
      "['2,744,775', '1,900,422', '189,449', '2,435,767', '1,928,809', '1,715,043', '1,972,628', '1,330,781', '120,096', '1,131,913', '1,402,992', '355,184', '62,262', '61,511', '1,547,338', '1,198,341', '1,004,444', '610,909', '1,196,333', '737,495', '602,062', '1,756,238', '1,138,499', '36,838', '31,557', '611,668', '683,805', '1,084,961', '410,746', '336,597', '199,258', '96,952', '141,104', '64,850', '125,620', '47,522', '784,751', '814,981', '1,023,820', '1,516,266', '630,356', '906,649', '1,148,406', '1,146,543', '130,431', '66,209', '99,941', '108,166', '126,819', '68,373']\n"
     ]
    }
   ],
   "source": [
    "data=[]\n",
    "votes_tags=driver.find_elements(By.XPATH,\"//div[@class='lister-item-content']//p[@class='sort-num_votes-visible']/span[2]\")\n",
    "for i in votes_tags:\n",
    "    votes=i.text\n",
    "    mov_votes.append(votes)\n",
    "print(mov_votes)    "
   ]
  },
  {
   "cell_type": "code",
   "execution_count": 6,
   "id": "602c2b47",
   "metadata": {},
   "outputs": [
    {
     "data": {
      "text/plain": [
       "50"
      ]
     },
     "execution_count": 6,
     "metadata": {},
     "output_type": "execute_result"
    }
   ],
   "source": [
    "len(mov_votes)"
   ]
  },
  {
   "cell_type": "code",
   "execution_count": 7,
   "id": "dd872f2f",
   "metadata": {},
   "outputs": [
    {
     "name": "stdout",
     "output_type": "stream",
     "text": [
      "['$534.86M', '1,900,422', '$377.85M', '189,449', '2,435,767', '$292.58M', '1,928,809', '$315.54M', '1,715,043', '$342.55M', '1,972,628', '$171.48M', '1,330,781', '$290.48M', '120,096', '1,131,913', '$204.84M', '1,402,992', '$322.74M', '355,184', '$0.27M', '62,262', '61,511', '1,547,338', '$187.71M', '1,198,341', '$19.50M', '1,004,444', '$248.16M', '610,909', '$190.24M', '1,196,333', '$858.37M', '737,495', '$85.16M', '602,062', '$0.71M', '1,756,238', '$448.14M', '1,138,499', '$678.82M', '36,838', '31,557', '611,668', '$718.73M', '683,805', '$67.44M', '1,084,961', '$309.13M', '410,746']\n"
     ]
    }
   ],
   "source": [
    "data=[]\n",
    "gross_tags = driver.find_elements(By.XPATH, \"//p[@class='sort-num_votes-visible']/span[@name='nv']\")\n",
    "mov_gross = []\n",
    "for gross_tag in gross_tags[1:51]:\n",
    "    gross = gross_tag.text\n",
    "    mov_gross.append(gross)\n",
    "print(mov_gross)"
   ]
  },
  {
   "cell_type": "code",
   "execution_count": 8,
   "id": "23fc9489",
   "metadata": {},
   "outputs": [
    {
     "data": {
      "text/plain": [
       "50"
      ]
     },
     "execution_count": 8,
     "metadata": {},
     "output_type": "execute_result"
    }
   ],
   "source": [
    "len(mov_gross)"
   ]
  },
  {
   "cell_type": "code",
   "execution_count": 9,
   "id": "6a1776a5",
   "metadata": {},
   "outputs": [],
   "source": [
    "search=driver.find_element(By.XPATH,\"/html/body/div[2]/div/div[2]/div[3]/div[1]/div/div[3]/div/div[1]/div[3]/h3/a\")\n",
    "search.click()\n"
   ]
  },
  {
   "cell_type": "code",
   "execution_count": 10,
   "id": "71cf22b3",
   "metadata": {},
   "outputs": [
    {
     "name": "stdout",
     "output_type": "stream",
     "text": [
      "['79', '']\n"
     ]
    }
   ],
   "source": [
    "data = []\n",
    "mov_popularity = []\n",
    "\n",
    "try:\n",
    "    popularity_tags = driver.find_elements(By.XPATH, \"//div[@class='sc-5f7fb5b4-1 bhuIgW']\")\n",
    "    for i in popularity_tags[0:50]:\n",
    "        popularity = i.text\n",
    "        mov_popularity.append(popularity)\n",
    "except:\n",
    "    mov_popularity = [\"N/A\"]\n",
    "\n",
    "print(mov_popularity)\n"
   ]
  },
  {
   "cell_type": "code",
   "execution_count": 11,
   "id": "5cc5a896",
   "metadata": {},
   "outputs": [
    {
     "name": "stdout",
     "output_type": "stream",
     "text": [
      "['Nolan', 'Goyer', 'Eckhart', 'info', 'N/A', 'N/A', 'N/A', 'N/A', 'total', 'Nolan', 'Goyer', 'lines.', 'Chicago.', 'free.', 'credits.', 'possible.', '(2013)', 'Department', 'about?', 'books?', 'film?', 'States)', 'Kingdom', 'Bros.', 'EnglishMandarin', '2', 'Kong', 'EntertainmentSyncopy', '(estimated)', '$534,987,076', '2008', '$1,006,234,167', 'minutes', 'DigitalSDDSDTS', '1']\n"
     ]
    }
   ],
   "source": [
    "data = []\n",
    "mov_stars = []\n",
    "\n",
    "stars_elements = driver.find_elements(By.XPATH, \"//div[@class='ipc-metadata-list-item__content-container']\")\n",
    "for star_element in stars_elements[0:50]:\n",
    "    stars_text = star_element.text\n",
    "    star_ratings = stars_text.split()[-1] if stars_text else \"N/A\"\n",
    "    \n",
    "    mov_stars.append(star_ratings)\n",
    "\n",
    "print(mov_stars)\n"
   ]
  },
  {
   "cell_type": "code",
   "execution_count": 12,
   "id": "ea1d28f4",
   "metadata": {},
   "outputs": [
    {
     "data": {
      "text/plain": [
       "35"
      ]
     },
     "execution_count": 12,
     "metadata": {},
     "output_type": "execute_result"
    }
   ],
   "source": [
    "len(mov_stars)"
   ]
  },
  {
   "cell_type": "code",
   "execution_count": 15,
   "id": "4a4822f1",
   "metadata": {},
   "outputs": [
    {
     "name": "stdout",
     "output_type": "stream",
     "text": [
      "['Action, Crime, Drama', 'Action, Adventure, Drama', 'Animation, Action, Adventure', 'Action, Adventure, Sci-Fi', 'Action, Adventure, Drama', 'Action, Adventure, Drama', 'Action, Sci-Fi', 'Action, Adventure, Fantasy', 'Action, Drama', 'Action, Sci-Fi', 'Action, Adventure, Fantasy', 'Action, Drama', 'Action, Drama, Mystery', 'Action, Drama, Mystery', 'Action, Adventure, Drama', 'Action, Crime, Drama', 'Action, Adventure', 'Animation, Action, Adventure', 'Action, Adventure, Drama', 'Action, Adventure, Sci-Fi', 'Action, Drama, Mystery', 'Action, Drama, Thriller', 'Action, Adventure, Sci-Fi', 'Action, Adventure, Crime', 'Action, Drama', 'Action, Drama', 'Action, Crime, Drama', 'Action, Adventure, Fantasy', 'Animation, Action, Adventure', 'Action, Adventure, Mystery', 'Action, Biography, Drama', 'Action, Adventure, Drama', 'Action, Crime, Drama', 'Action, Crime, Thriller', 'Action, Biography, Drama', 'Action, Crime, Drama', 'Action, Adventure', 'Action, Adventure, Fantasy', 'Action, Adventure, Sci-Fi', 'Action, Crime, Drama', 'Action, Drama, War', 'Action, Thriller', 'Action, Crime, Thriller', 'Action, Drama, Sci-Fi', 'Action, Drama, War', 'Animation, Action, Adventure', 'Action, Comedy, Crime', 'Action, Drama', 'Action, Drama, Thriller', 'Action, Drama, History']\n"
     ]
    }
   ],
   "source": [
    "data=[]\n",
    "mov_genre = [] \n",
    "genre_tags = driver.find_elements(By.XPATH, \"//span[@class='genre']\")\n",
    "for i in genre_tags:\n",
    "    genre = i.text\n",
    "    mov_genre.append(genre)  \n",
    "print(mov_genre)"
   ]
  },
  {
   "cell_type": "code",
   "execution_count": 16,
   "id": "92723f31",
   "metadata": {},
   "outputs": [
    {
     "data": {
      "text/plain": [
       "50"
      ]
     },
     "execution_count": 16,
     "metadata": {},
     "output_type": "execute_result"
    }
   ],
   "source": [
    "len(mov_genre)"
   ]
  },
  {
   "cell_type": "code",
   "execution_count": 17,
   "id": "ac537250",
   "metadata": {},
   "outputs": [],
   "source": [
    "data.append({'Movie_name':mov_name,\n",
    "            'Stars':mov_stars,\n",
    "            'Votes':mov_votes,\n",
    "            'Genra':mov_genre,\n",
    "            'Gross_collection':mov_gross})\n",
    "driver.quit()\n",
    "df=pd.DataFrame(data)\n",
    "output_file=\"imdb_movies.csv2\"\n",
    "df.to_csv(output_file,index=False)"
   ]
  },
  {
   "cell_type": "code",
   "execution_count": 18,
   "id": "7519cdc1",
   "metadata": {},
   "outputs": [
    {
     "name": "stdout",
     "output_type": "stream",
     "text": [
      "Data successfully saved to imdb_movies.csv2\n"
     ]
    }
   ],
   "source": [
    "print(f\"Data successfully saved to {output_file}\")"
   ]
  },
  {
   "cell_type": "code",
   "execution_count": 19,
   "id": "e2df8644",
   "metadata": {
    "scrolled": true
   },
   "outputs": [
    {
     "name": "stdout",
     "output_type": "stream",
     "text": [
      "Data successfully saved to imdb_movies.csv2\n"
     ]
    }
   ],
   "source": [
    "import pandas as pd \n",
    "csv_file = \"imdb_movies.csv2\"\n",
    "df=pd.read_csv(csv_file)\n",
    "df=pd.DataFrame({'Movie_name':mov_name[0:35],'Stars':mov_stars[0:35],'Votes':mov_votes[0:35],'Genre':mov_genre[0:35],'Gross_collection':mov_gross[0:35]})\n",
    "output_file=\"imdb_movies.csv2\"\n",
    "df.to_csv(output_file,index=False)\n",
    "print(f\"Data successfully saved to {output_file}\")"
   ]
  },
  {
   "cell_type": "code",
   "execution_count": 20,
   "id": "b358ca1f",
   "metadata": {},
   "outputs": [
    {
     "data": {
      "text/html": [
       "<div>\n",
       "<style scoped>\n",
       "    .dataframe tbody tr th:only-of-type {\n",
       "        vertical-align: middle;\n",
       "    }\n",
       "\n",
       "    .dataframe tbody tr th {\n",
       "        vertical-align: top;\n",
       "    }\n",
       "\n",
       "    .dataframe thead th {\n",
       "        text-align: right;\n",
       "    }\n",
       "</style>\n",
       "<table border=\"1\" class=\"dataframe\">\n",
       "  <thead>\n",
       "    <tr style=\"text-align: right;\">\n",
       "      <th></th>\n",
       "      <th>Movie_name</th>\n",
       "      <th>Stars</th>\n",
       "      <th>Votes</th>\n",
       "      <th>Genre</th>\n",
       "      <th>Gross_collection</th>\n",
       "    </tr>\n",
       "  </thead>\n",
       "  <tbody>\n",
       "    <tr>\n",
       "      <th>0</th>\n",
       "      <td>The Dark Knight</td>\n",
       "      <td>Nolan</td>\n",
       "      <td>2,744,775</td>\n",
       "      <td>Action, Crime, Drama</td>\n",
       "      <td>$534.86M</td>\n",
       "    </tr>\n",
       "    <tr>\n",
       "      <th>1</th>\n",
       "      <td>The Lord of the Rings: The Return of the King</td>\n",
       "      <td>Goyer</td>\n",
       "      <td>1,900,422</td>\n",
       "      <td>Action, Adventure, Drama</td>\n",
       "      <td>1,900,422</td>\n",
       "    </tr>\n",
       "    <tr>\n",
       "      <th>2</th>\n",
       "      <td>Spider-Man: Across the Spider-Verse</td>\n",
       "      <td>Eckhart</td>\n",
       "      <td>189,449</td>\n",
       "      <td>Animation, Action, Adventure</td>\n",
       "      <td>$377.85M</td>\n",
       "    </tr>\n",
       "    <tr>\n",
       "      <th>3</th>\n",
       "      <td>Inception</td>\n",
       "      <td>info</td>\n",
       "      <td>2,435,767</td>\n",
       "      <td>Action, Adventure, Sci-Fi</td>\n",
       "      <td>189,449</td>\n",
       "    </tr>\n",
       "    <tr>\n",
       "      <th>4</th>\n",
       "      <td>The Lord of the Rings: The Fellowship of the Ring</td>\n",
       "      <td>NaN</td>\n",
       "      <td>1,928,809</td>\n",
       "      <td>Action, Adventure, Drama</td>\n",
       "      <td>2,435,767</td>\n",
       "    </tr>\n",
       "    <tr>\n",
       "      <th>5</th>\n",
       "      <td>The Lord of the Rings: The Two Towers</td>\n",
       "      <td>NaN</td>\n",
       "      <td>1,715,043</td>\n",
       "      <td>Action, Adventure, Drama</td>\n",
       "      <td>$292.58M</td>\n",
       "    </tr>\n",
       "    <tr>\n",
       "      <th>6</th>\n",
       "      <td>The Matrix</td>\n",
       "      <td>NaN</td>\n",
       "      <td>1,972,628</td>\n",
       "      <td>Action, Sci-Fi</td>\n",
       "      <td>1,928,809</td>\n",
       "    </tr>\n",
       "    <tr>\n",
       "      <th>7</th>\n",
       "      <td>Star Wars: Episode V - The Empire Strikes Back</td>\n",
       "      <td>NaN</td>\n",
       "      <td>1,330,781</td>\n",
       "      <td>Action, Adventure, Fantasy</td>\n",
       "      <td>$315.54M</td>\n",
       "    </tr>\n",
       "    <tr>\n",
       "      <th>8</th>\n",
       "      <td>Soorarai Pottru</td>\n",
       "      <td>total</td>\n",
       "      <td>120,096</td>\n",
       "      <td>Action, Drama</td>\n",
       "      <td>1,715,043</td>\n",
       "    </tr>\n",
       "    <tr>\n",
       "      <th>9</th>\n",
       "      <td>Terminator 2: Judgment Day</td>\n",
       "      <td>Nolan</td>\n",
       "      <td>1,131,913</td>\n",
       "      <td>Action, Sci-Fi</td>\n",
       "      <td>$342.55M</td>\n",
       "    </tr>\n",
       "    <tr>\n",
       "      <th>10</th>\n",
       "      <td>Star Wars: Episode IV - A New Hope</td>\n",
       "      <td>Goyer</td>\n",
       "      <td>1,402,992</td>\n",
       "      <td>Action, Adventure, Fantasy</td>\n",
       "      <td>1,972,628</td>\n",
       "    </tr>\n",
       "    <tr>\n",
       "      <th>11</th>\n",
       "      <td>Seven Samurai</td>\n",
       "      <td>lines.</td>\n",
       "      <td>355,184</td>\n",
       "      <td>Action, Drama</td>\n",
       "      <td>$171.48M</td>\n",
       "    </tr>\n",
       "    <tr>\n",
       "      <th>12</th>\n",
       "      <td>Harakiri</td>\n",
       "      <td>Chicago.</td>\n",
       "      <td>62,262</td>\n",
       "      <td>Action, Drama, Mystery</td>\n",
       "      <td>1,330,781</td>\n",
       "    </tr>\n",
       "    <tr>\n",
       "      <th>13</th>\n",
       "      <td>Sita Ramam</td>\n",
       "      <td>free.</td>\n",
       "      <td>61,511</td>\n",
       "      <td>Action, Drama, Mystery</td>\n",
       "      <td>$290.48M</td>\n",
       "    </tr>\n",
       "    <tr>\n",
       "      <th>14</th>\n",
       "      <td>Gladiator</td>\n",
       "      <td>credits.</td>\n",
       "      <td>1,547,338</td>\n",
       "      <td>Action, Adventure, Drama</td>\n",
       "      <td>120,096</td>\n",
       "    </tr>\n",
       "    <tr>\n",
       "      <th>15</th>\n",
       "      <td>Léon: The Professional</td>\n",
       "      <td>possible.</td>\n",
       "      <td>1,198,341</td>\n",
       "      <td>Action, Crime, Drama</td>\n",
       "      <td>1,131,913</td>\n",
       "    </tr>\n",
       "    <tr>\n",
       "      <th>16</th>\n",
       "      <td>Raiders of the Lost Ark</td>\n",
       "      <td>(2013)</td>\n",
       "      <td>1,004,444</td>\n",
       "      <td>Action, Adventure</td>\n",
       "      <td>$204.84M</td>\n",
       "    </tr>\n",
       "    <tr>\n",
       "      <th>17</th>\n",
       "      <td>Spider-Man: Into the Spider-Verse</td>\n",
       "      <td>Department</td>\n",
       "      <td>610,909</td>\n",
       "      <td>Animation, Action, Adventure</td>\n",
       "      <td>1,402,992</td>\n",
       "    </tr>\n",
       "    <tr>\n",
       "      <th>18</th>\n",
       "      <td>Avengers: Endgame</td>\n",
       "      <td>about?</td>\n",
       "      <td>1,196,333</td>\n",
       "      <td>Action, Adventure, Drama</td>\n",
       "      <td>$322.74M</td>\n",
       "    </tr>\n",
       "    <tr>\n",
       "      <th>19</th>\n",
       "      <td>Aliens</td>\n",
       "      <td>books?</td>\n",
       "      <td>737,495</td>\n",
       "      <td>Action, Adventure, Sci-Fi</td>\n",
       "      <td>355,184</td>\n",
       "    </tr>\n",
       "    <tr>\n",
       "      <th>20</th>\n",
       "      <td>Oldboy</td>\n",
       "      <td>film?</td>\n",
       "      <td>602,062</td>\n",
       "      <td>Action, Drama, Mystery</td>\n",
       "      <td>$0.27M</td>\n",
       "    </tr>\n",
       "    <tr>\n",
       "      <th>21</th>\n",
       "      <td>The Dark Knight Rises</td>\n",
       "      <td>States)</td>\n",
       "      <td>1,756,238</td>\n",
       "      <td>Action, Drama, Thriller</td>\n",
       "      <td>62,262</td>\n",
       "    </tr>\n",
       "    <tr>\n",
       "      <th>22</th>\n",
       "      <td>Avengers: Infinity War</td>\n",
       "      <td>Kingdom</td>\n",
       "      <td>1,138,499</td>\n",
       "      <td>Action, Adventure, Sci-Fi</td>\n",
       "      <td>61,511</td>\n",
       "    </tr>\n",
       "    <tr>\n",
       "      <th>23</th>\n",
       "      <td>Kaithi</td>\n",
       "      <td>Bros.</td>\n",
       "      <td>36,838</td>\n",
       "      <td>Action, Adventure, Crime</td>\n",
       "      <td>1,547,338</td>\n",
       "    </tr>\n",
       "    <tr>\n",
       "      <th>24</th>\n",
       "      <td>Asuran</td>\n",
       "      <td>EnglishMandarin</td>\n",
       "      <td>31,557</td>\n",
       "      <td>Action, Drama</td>\n",
       "      <td>$187.71M</td>\n",
       "    </tr>\n",
       "    <tr>\n",
       "      <th>25</th>\n",
       "      <td>Top Gun: Maverick</td>\n",
       "      <td>2</td>\n",
       "      <td>611,668</td>\n",
       "      <td>Action, Drama</td>\n",
       "      <td>1,198,341</td>\n",
       "    </tr>\n",
       "    <tr>\n",
       "      <th>26</th>\n",
       "      <td>Heat</td>\n",
       "      <td>Kong</td>\n",
       "      <td>683,805</td>\n",
       "      <td>Action, Crime, Drama</td>\n",
       "      <td>$19.50M</td>\n",
       "    </tr>\n",
       "    <tr>\n",
       "      <th>27</th>\n",
       "      <td>Star Wars: Episode VI - Return of the Jedi</td>\n",
       "      <td>EntertainmentSyncopy</td>\n",
       "      <td>1,084,961</td>\n",
       "      <td>Action, Adventure, Fantasy</td>\n",
       "      <td>1,004,444</td>\n",
       "    </tr>\n",
       "    <tr>\n",
       "      <th>28</th>\n",
       "      <td>Princess Mononoke</td>\n",
       "      <td>(estimated)</td>\n",
       "      <td>410,746</td>\n",
       "      <td>Animation, Action, Adventure</td>\n",
       "      <td>$248.16M</td>\n",
       "    </tr>\n",
       "    <tr>\n",
       "      <th>29</th>\n",
       "      <td>North by Northwest</td>\n",
       "      <td>$534,987,076</td>\n",
       "      <td>336,597</td>\n",
       "      <td>Action, Adventure, Mystery</td>\n",
       "      <td>610,909</td>\n",
       "    </tr>\n",
       "    <tr>\n",
       "      <th>30</th>\n",
       "      <td>Dangal</td>\n",
       "      <td>2008</td>\n",
       "      <td>199,258</td>\n",
       "      <td>Action, Biography, Drama</td>\n",
       "      <td>$190.24M</td>\n",
       "    </tr>\n",
       "    <tr>\n",
       "      <th>31</th>\n",
       "      <td>Kantara</td>\n",
       "      <td>$1,006,234,167</td>\n",
       "      <td>96,952</td>\n",
       "      <td>Action, Adventure, Drama</td>\n",
       "      <td>1,196,333</td>\n",
       "    </tr>\n",
       "    <tr>\n",
       "      <th>32</th>\n",
       "      <td>K.G.F: Chapter 2</td>\n",
       "      <td>minutes</td>\n",
       "      <td>141,104</td>\n",
       "      <td>Action, Crime, Drama</td>\n",
       "      <td>$858.37M</td>\n",
       "    </tr>\n",
       "    <tr>\n",
       "      <th>33</th>\n",
       "      <td>Vikram</td>\n",
       "      <td>DigitalSDDSDTS</td>\n",
       "      <td>64,850</td>\n",
       "      <td>Action, Crime, Thriller</td>\n",
       "      <td>737,495</td>\n",
       "    </tr>\n",
       "    <tr>\n",
       "      <th>34</th>\n",
       "      <td>Shershaah</td>\n",
       "      <td>1</td>\n",
       "      <td>125,620</td>\n",
       "      <td>Action, Biography, Drama</td>\n",
       "      <td>$85.16M</td>\n",
       "    </tr>\n",
       "  </tbody>\n",
       "</table>\n",
       "</div>"
      ],
      "text/plain": [
       "                                           Movie_name                 Stars  \\\n",
       "0                                     The Dark Knight                 Nolan   \n",
       "1       The Lord of the Rings: The Return of the King                 Goyer   \n",
       "2                 Spider-Man: Across the Spider-Verse               Eckhart   \n",
       "3                                           Inception                  info   \n",
       "4   The Lord of the Rings: The Fellowship of the Ring                   NaN   \n",
       "5               The Lord of the Rings: The Two Towers                   NaN   \n",
       "6                                          The Matrix                   NaN   \n",
       "7      Star Wars: Episode V - The Empire Strikes Back                   NaN   \n",
       "8                                     Soorarai Pottru                 total   \n",
       "9                          Terminator 2: Judgment Day                 Nolan   \n",
       "10                 Star Wars: Episode IV - A New Hope                 Goyer   \n",
       "11                                      Seven Samurai                lines.   \n",
       "12                                           Harakiri              Chicago.   \n",
       "13                                         Sita Ramam                 free.   \n",
       "14                                          Gladiator              credits.   \n",
       "15                             Léon: The Professional             possible.   \n",
       "16                            Raiders of the Lost Ark                (2013)   \n",
       "17                  Spider-Man: Into the Spider-Verse            Department   \n",
       "18                                  Avengers: Endgame                about?   \n",
       "19                                             Aliens                books?   \n",
       "20                                             Oldboy                 film?   \n",
       "21                              The Dark Knight Rises               States)   \n",
       "22                             Avengers: Infinity War               Kingdom   \n",
       "23                                             Kaithi                 Bros.   \n",
       "24                                             Asuran       EnglishMandarin   \n",
       "25                                  Top Gun: Maverick                     2   \n",
       "26                                               Heat                  Kong   \n",
       "27         Star Wars: Episode VI - Return of the Jedi  EntertainmentSyncopy   \n",
       "28                                  Princess Mononoke           (estimated)   \n",
       "29                                 North by Northwest          $534,987,076   \n",
       "30                                             Dangal                  2008   \n",
       "31                                            Kantara        $1,006,234,167   \n",
       "32                                   K.G.F: Chapter 2               minutes   \n",
       "33                                             Vikram        DigitalSDDSDTS   \n",
       "34                                          Shershaah                     1   \n",
       "\n",
       "        Votes                         Genre Gross_collection  \n",
       "0   2,744,775          Action, Crime, Drama         $534.86M  \n",
       "1   1,900,422      Action, Adventure, Drama        1,900,422  \n",
       "2     189,449  Animation, Action, Adventure         $377.85M  \n",
       "3   2,435,767     Action, Adventure, Sci-Fi          189,449  \n",
       "4   1,928,809      Action, Adventure, Drama        2,435,767  \n",
       "5   1,715,043      Action, Adventure, Drama         $292.58M  \n",
       "6   1,972,628                Action, Sci-Fi        1,928,809  \n",
       "7   1,330,781    Action, Adventure, Fantasy         $315.54M  \n",
       "8     120,096                 Action, Drama        1,715,043  \n",
       "9   1,131,913                Action, Sci-Fi         $342.55M  \n",
       "10  1,402,992    Action, Adventure, Fantasy        1,972,628  \n",
       "11    355,184                 Action, Drama         $171.48M  \n",
       "12     62,262        Action, Drama, Mystery        1,330,781  \n",
       "13     61,511        Action, Drama, Mystery         $290.48M  \n",
       "14  1,547,338      Action, Adventure, Drama          120,096  \n",
       "15  1,198,341          Action, Crime, Drama        1,131,913  \n",
       "16  1,004,444             Action, Adventure         $204.84M  \n",
       "17    610,909  Animation, Action, Adventure        1,402,992  \n",
       "18  1,196,333      Action, Adventure, Drama         $322.74M  \n",
       "19    737,495     Action, Adventure, Sci-Fi          355,184  \n",
       "20    602,062        Action, Drama, Mystery           $0.27M  \n",
       "21  1,756,238       Action, Drama, Thriller           62,262  \n",
       "22  1,138,499     Action, Adventure, Sci-Fi           61,511  \n",
       "23     36,838      Action, Adventure, Crime        1,547,338  \n",
       "24     31,557                 Action, Drama         $187.71M  \n",
       "25    611,668                 Action, Drama        1,198,341  \n",
       "26    683,805          Action, Crime, Drama          $19.50M  \n",
       "27  1,084,961    Action, Adventure, Fantasy        1,004,444  \n",
       "28    410,746  Animation, Action, Adventure         $248.16M  \n",
       "29    336,597    Action, Adventure, Mystery          610,909  \n",
       "30    199,258      Action, Biography, Drama         $190.24M  \n",
       "31     96,952      Action, Adventure, Drama        1,196,333  \n",
       "32    141,104          Action, Crime, Drama         $858.37M  \n",
       "33     64,850       Action, Crime, Thriller          737,495  \n",
       "34    125,620      Action, Biography, Drama          $85.16M  "
      ]
     },
     "execution_count": 20,
     "metadata": {},
     "output_type": "execute_result"
    }
   ],
   "source": [
    "b=pd.read_csv(\"imdb_movies.csv2\")\n",
    "b"
   ]
  },
  {
   "cell_type": "code",
   "execution_count": null,
   "id": "5eb72606",
   "metadata": {},
   "outputs": [],
   "source": []
  },
  {
   "cell_type": "code",
   "execution_count": null,
   "id": "e5ec8179",
   "metadata": {},
   "outputs": [],
   "source": []
  },
  {
   "cell_type": "code",
   "execution_count": null,
   "id": "76d8089e",
   "metadata": {},
   "outputs": [],
   "source": []
  }
 ],
 "metadata": {
  "kernelspec": {
   "display_name": "Python 3 (ipykernel)",
   "language": "python",
   "name": "python3"
  },
  "language_info": {
   "codemirror_mode": {
    "name": "ipython",
    "version": 3
   },
   "file_extension": ".py",
   "mimetype": "text/x-python",
   "name": "python",
   "nbconvert_exporter": "python",
   "pygments_lexer": "ipython3",
   "version": "3.9.13"
  }
 },
 "nbformat": 4,
 "nbformat_minor": 5
}
