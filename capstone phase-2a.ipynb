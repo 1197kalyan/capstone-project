{
 "cells": [
  {
   "cell_type": "code",
   "execution_count": 1,
   "id": "0ae6f7cb",
   "metadata": {},
   "outputs": [],
   "source": [
    "import sqlite3"
   ]
  },
  {
   "cell_type": "code",
   "execution_count": 2,
   "id": "0f620bac",
   "metadata": {},
   "outputs": [],
   "source": [
    "db=sqlite3.connect('movies_database.db')\n",
    "cursor = db.cursor()"
   ]
  },
  {
   "cell_type": "code",
   "execution_count": 3,
   "id": "4ee3d96c",
   "metadata": {},
   "outputs": [
    {
     "data": {
      "text/plain": [
       "<sqlite3.Cursor at 0x2386e66d420>"
      ]
     },
     "execution_count": 3,
     "metadata": {},
     "output_type": "execute_result"
    }
   ],
   "source": [
    "cursor.execute(\"CREATE TABLE MOVIES1i (sno INT,movie name TEXT, duration INT,year INT,rating REAL,meta score INT)\")"
   ]
  },
  {
   "cell_type": "code",
   "execution_count": 4,
   "id": "35237d4c",
   "metadata": {},
   "outputs": [
    {
     "name": "stdout",
     "output_type": "stream",
     "text": [
      "38 records inserted\n"
     ]
    }
   ],
   "source": [
    "with open (\"imdb_movies.csv1\",'r') as file:\n",
    "    total_records=0\n",
    "    for row in file:\n",
    "        cursor.execute(\"insert into movies1i values(?,?,?,?,?,?)\",row.split(\",\"))\n",
    "        db.commit()\n",
    "        total_records+=1\n",
    "print(total_records,\"records inserted\")        "
   ]
  },
  {
   "cell_type": "code",
   "execution_count": 5,
   "id": "f96801c7",
   "metadata": {},
   "outputs": [
    {
     "name": "stdout",
     "output_type": "stream",
     "text": [
      "('Sno', 'Movie_name', 'Duration', 'Year', 'Rating', 'Metascore\\n')\n",
      "(1, 'The Dark Knight', '152 min', '(2008)', 9.0, 84)\n",
      "(2, 'The Lord of the Rings: The Return of the King', '201 min', '(2003)', 9.0, 94)\n",
      "(3, 'Spider-Man: Across the Spider-Verse', '140 min', '(2023)', 8.9, 86)\n",
      "(4, 'Inception', '148 min', '(2010)', 8.8, 74)\n",
      "(5, 'The Lord of the Rings: The Fellowship of the Ring', '178 min', '(2001)', 8.8, 92)\n",
      "(6, 'The Lord of the Rings: The Two Towers', '179 min', '(2002)', 8.8, 87)\n",
      "(7, 'The Matrix', '136 min', '(1999)', 8.7, 73)\n",
      "(8, 'Star Wars: Episode V - The Empire Strikes Back', '124 min', '(1980)', 8.7, 82)\n",
      "(9, 'Soorarai Pottru', '153 min', '(2020)', 8.7, 75)\n",
      "(10, 'Terminator 2: Judgment Day', '137 min', '(1991)', 8.6, 90)\n",
      "(11, 'Star Wars: Episode IV - A New Hope', '121 min', '(1977)', 8.6, 98)\n",
      "(12, 'Seven Samurai', '207 min', '(1954)', 8.6, 85)\n",
      "(13, 'Harakiri', '133 min', '(1962)', 8.6, 67)\n",
      "(14, 'Sita Ramam', '163 min', '(2022)', 8.6, 64)\n",
      "(15, 'Gladiator', '155 min', '(2000)', 8.5, 85)\n",
      "(16, 'LÃ©on: The Professional', '110 min', '(1994)', 8.5, 87)\n",
      "(17, 'Raiders of the Lost Ark', '115 min', '(1981)', 8.4, 78)\n",
      "(18, 'Spider-Man: Into the Spider-Verse', '117 min', '(2018)', 8.4, 84)\n",
      "(19, 'Avengers: Endgame', '181 min', '(2019)', 8.4, 77)\n",
      "(20, 'Aliens', '137 min', '(1986)', 8.4, 78)\n",
      "(21, 'Oldboy', '101 min', '(2003)', 8.4, 68)\n",
      "(22, 'The Dark Knight Rises', '164 min', '(2012)', 8.4, 78)\n",
      "(23, 'Avengers: Infinity War', '149 min', '(2018)', 8.4, 76)\n",
      "(24, 'Kaithi', '145 min', '(2019)', 8.4, 76)\n",
      "(25, 'Asuran', '141 min', '(2019)', 8.4, 98)\n",
      "(26, 'Top Gun: Maverick', '130 min', '(2022)', 8.3, 65)\n",
      "(27, 'Heat', '170 min', '(1995)', 8.3, 71)\n",
      "(28, 'Star Wars: Episode VI - Return of the Jedi', '131 min', '(1983)', 8.3, 68)\n",
      "(29, 'Princess Mononoke', '134 min', '(1997)', 8.3, 70)\n",
      "(30, 'North by Northwest', '136 min', '(1959)', 8.3, 78)\n",
      "(31, 'Dangal', '161 min', '(2016)', 8.3, 72)\n",
      "(32, 'Kantara', '148 min', '(2022)', 8.3, 69)\n",
      "(33, 'K.G.F: Chapter 2', '168 min', '(2022)', 8.3, 62)\n",
      "(34, 'Vikram', '175 min', '(2022)', 8.3, 97)\n",
      "(35, 'Shershaah', '135 min', '(2021)', 8.3, 72)\n",
      "(36, 'Raatchasan', '170 min', '(2018)', 8.3, 89)\n",
      "(37, 'Indiana Jones and the Last Crusade', '127 min', '(1989)', 8.2, 93)\n"
     ]
    }
   ],
   "source": [
    "output=cursor.execute(\"SELECT * FROM movies1i \")\n",
    "for row in output:\n",
    "    print(row)"
   ]
  },
  {
   "cell_type": "code",
   "execution_count": 6,
   "id": "a2b71e0c",
   "metadata": {},
   "outputs": [],
   "source": [
    "#Display all the details of movies with a duration of 140 minutes to 190 minutes."
   ]
  },
  {
   "cell_type": "code",
   "execution_count": 7,
   "id": "5ecf92a0",
   "metadata": {},
   "outputs": [
    {
     "name": "stdout",
     "output_type": "stream",
     "text": [
      "(1, 'The Dark Knight', '152 min', '(2008)', 9.0, 84)\n",
      "(3, 'Spider-Man: Across the Spider-Verse', '140 min', '(2023)', 8.9, 86)\n",
      "(4, 'Inception', '148 min', '(2010)', 8.8, 74)\n",
      "(5, 'The Lord of the Rings: The Fellowship of the Ring', '178 min', '(2001)', 8.8, 92)\n",
      "(6, 'The Lord of the Rings: The Two Towers', '179 min', '(2002)', 8.8, 87)\n",
      "(9, 'Soorarai Pottru', '153 min', '(2020)', 8.7, 75)\n",
      "(14, 'Sita Ramam', '163 min', '(2022)', 8.6, 64)\n",
      "(15, 'Gladiator', '155 min', '(2000)', 8.5, 85)\n",
      "(19, 'Avengers: Endgame', '181 min', '(2019)', 8.4, 77)\n",
      "(22, 'The Dark Knight Rises', '164 min', '(2012)', 8.4, 78)\n",
      "(23, 'Avengers: Infinity War', '149 min', '(2018)', 8.4, 76)\n",
      "(24, 'Kaithi', '145 min', '(2019)', 8.4, 76)\n",
      "(25, 'Asuran', '141 min', '(2019)', 8.4, 98)\n",
      "(27, 'Heat', '170 min', '(1995)', 8.3, 71)\n",
      "(31, 'Dangal', '161 min', '(2016)', 8.3, 72)\n",
      "(32, 'Kantara', '148 min', '(2022)', 8.3, 69)\n",
      "(33, 'K.G.F: Chapter 2', '168 min', '(2022)', 8.3, 62)\n",
      "(34, 'Vikram', '175 min', '(2022)', 8.3, 97)\n",
      "(36, 'Raatchasan', '170 min', '(2018)', 8.3, 89)\n"
     ]
    }
   ],
   "source": [
    "query = \"SELECT * FROM movies1i WHERE CAST(substr(Duration, 1, length(Duration) - 4) AS INTEGER) BETWEEN 140 AND 190;\"\n",
    "output = cursor.execute(query)\n",
    "rows = output.fetchall()\n",
    "\n",
    "if rows:\n",
    "    for row in rows[0:19]:\n",
    "        print(row)\n",
    "else:\n",
    "    print(\"No movies found with a duration between 140 and 190 minutes.\")\n",
    "    \n",
    "db.close()"
   ]
  },
  {
   "cell_type": "code",
   "execution_count": 8,
   "id": "c5396192",
   "metadata": {},
   "outputs": [],
   "source": [
    "#Display all details of movies with ratings above 7 in ascending order."
   ]
  },
  {
   "cell_type": "code",
   "execution_count": 9,
   "id": "f2a6bc68",
   "metadata": {},
   "outputs": [
    {
     "name": "stdout",
     "output_type": "stream",
     "text": [
      "(26, 'Top Gun: Maverick', '130 min', '(2022)', 8.3, 65)\n",
      "(27, 'Heat', '170 min', '(1995)', 8.3, 71)\n",
      "(28, 'Star Wars: Episode VI - Return of the Jedi', '131 min', '(1983)', 8.3, 68)\n",
      "(29, 'Princess Mononoke', '134 min', '(1997)', 8.3, 70)\n",
      "(30, 'North by Northwest', '136 min', '(1959)', 8.3, 78)\n",
      "(31, 'Dangal', '161 min', '(2016)', 8.3, 72)\n",
      "(32, 'Kantara', '148 min', '(2022)', 8.3, 69)\n",
      "(33, 'K.G.F: Chapter 2', '168 min', '(2022)', 8.3, 62)\n",
      "(34, 'Vikram', '175 min', '(2022)', 8.3, 97)\n",
      "(35, 'Shershaah', '135 min', '(2021)', 8.3, 72)\n",
      "(36, 'Raatchasan', '170 min', '(2018)', 8.3, 89)\n",
      "(17, 'Raiders of the Lost Ark', '115 min', '(1981)', 8.4, 78)\n",
      "(18, 'Spider-Man: Into the Spider-Verse', '117 min', '(2018)', 8.4, 84)\n",
      "(19, 'Avengers: Endgame', '181 min', '(2019)', 8.4, 77)\n",
      "(20, 'Aliens', '137 min', '(1986)', 8.4, 78)\n",
      "(21, 'Oldboy', '101 min', '(2003)', 8.4, 68)\n",
      "(22, 'The Dark Knight Rises', '164 min', '(2012)', 8.4, 78)\n",
      "(23, 'Avengers: Infinity War', '149 min', '(2018)', 8.4, 76)\n",
      "(24, 'Kaithi', '145 min', '(2019)', 8.4, 76)\n",
      "(25, 'Asuran', '141 min', '(2019)', 8.4, 98)\n",
      "(15, 'Gladiator', '155 min', '(2000)', 8.5, 85)\n",
      "(16, 'LÃ©on: The Professional', '110 min', '(1994)', 8.5, 87)\n",
      "(10, 'Terminator 2: Judgment Day', '137 min', '(1991)', 8.6, 90)\n",
      "(11, 'Star Wars: Episode IV - A New Hope', '121 min', '(1977)', 8.6, 98)\n",
      "(12, 'Seven Samurai', '207 min', '(1954)', 8.6, 85)\n",
      "(13, 'Harakiri', '133 min', '(1962)', 8.6, 67)\n",
      "(14, 'Sita Ramam', '163 min', '(2022)', 8.6, 64)\n",
      "(7, 'The Matrix', '136 min', '(1999)', 8.7, 73)\n",
      "(8, 'Star Wars: Episode V - The Empire Strikes Back', '124 min', '(1980)', 8.7, 82)\n",
      "(9, 'Soorarai Pottru', '153 min', '(2020)', 8.7, 75)\n",
      "(4, 'Inception', '148 min', '(2010)', 8.8, 74)\n",
      "(5, 'The Lord of the Rings: The Fellowship of the Ring', '178 min', '(2001)', 8.8, 92)\n",
      "(6, 'The Lord of the Rings: The Two Towers', '179 min', '(2002)', 8.8, 87)\n",
      "(3, 'Spider-Man: Across the Spider-Verse', '140 min', '(2023)', 8.9, 86)\n",
      "(1, 'The Dark Knight', '152 min', '(2008)', 9.0, 84)\n"
     ]
    }
   ],
   "source": [
    "db = sqlite3.connect(\"movies_database.db\")\n",
    "cursor = db.cursor()\n",
    "sony= \"SELECT * FROM movies1i WHERE rating > 7 ORDER BY Rating ASC;\"\n",
    "output = cursor.execute(sony)\n",
    "rows = output.fetchall()\n",
    "\n",
    "if rows:\n",
    "    for row in rows[1:36]:\n",
    "        print(row)\n",
    "else:\n",
    "    print(\"No movies found with ratings above 7.\")\n",
    "\n",
    "db.close()"
   ]
  },
  {
   "cell_type": "code",
   "execution_count": 10,
   "id": "4b5bd640",
   "metadata": {},
   "outputs": [],
   "source": [
    "#Display movie name starts with ‘P’ and their rating is greater than 7."
   ]
  },
  {
   "cell_type": "code",
   "execution_count": 11,
   "id": "e3e69967",
   "metadata": {},
   "outputs": [
    {
     "name": "stdout",
     "output_type": "stream",
     "text": [
      "No movies found.\n"
     ]
    }
   ],
   "source": [
    "\n",
    "db = sqlite3.connect(\"movies_database.db\")\n",
    "\n",
    "cursor = db.cursor()\n",
    "\n",
    "query = 'SELECT \"movie name\" FROM MOVIES1i WHERE \"movie name\" LIKE \"P%\" AND rating > 7;'\n",
    "output = cursor.execute(query)\n",
    "rows = output.fetchall()\n",
    "cursor.close()\n",
    "db.close()\n",
    "\n",
    "if rows:\n",
    "    for row in rows:\n",
    "        print(row[0])  \n",
    "else:\n",
    "    print(\"No movies found.\")\n"
   ]
  },
  {
   "cell_type": "code",
   "execution_count": 12,
   "id": "d34b732c",
   "metadata": {},
   "outputs": [],
   "source": [
    "#Display all movie names in descending order"
   ]
  },
  {
   "cell_type": "code",
   "execution_count": 50,
   "id": "6cef3c88",
   "metadata": {},
   "outputs": [
    {
     "name": "stdout",
     "output_type": "stream",
     "text": [
      "movie name\n",
      "movie name\n",
      "movie name\n",
      "movie name\n",
      "movie name\n",
      "movie name\n",
      "movie name\n",
      "movie name\n",
      "movie name\n",
      "movie name\n",
      "movie name\n",
      "movie name\n",
      "movie name\n",
      "movie name\n",
      "movie name\n",
      "movie name\n",
      "movie name\n",
      "movie name\n",
      "movie name\n",
      "movie name\n",
      "movie name\n",
      "movie name\n",
      "movie name\n",
      "movie name\n",
      "movie name\n",
      "movie name\n",
      "movie name\n",
      "movie name\n",
      "movie name\n",
      "movie name\n",
      "movie name\n",
      "movie name\n",
      "movie name\n",
      "movie name\n",
      "movie name\n",
      "movie name\n",
      "movie name\n",
      "movie name\n"
     ]
    }
   ],
   "source": [
    "\n",
    "query = 'SELECT \"movie name\" FROM MOVIES1i ORDER BY \"movie name\" DESC;'\n",
    "output = cursor.execute(query)\n",
    "rows = output.fetchall()\n",
    "\n",
    "if rows:\n",
    "    for row in rows:\n",
    "        print(row[0])  \n",
    "else:\n",
    "    print(\"No movies found.\")\n",
    "\n",
    "cursor.close()\n",
    "db.close()\n"
   ]
  },
  {
   "cell_type": "code",
   "execution_count": null,
   "id": "723efc57",
   "metadata": {},
   "outputs": [],
   "source": []
  },
  {
   "cell_type": "code",
   "execution_count": 93,
   "id": "4b937ef6",
   "metadata": {},
   "outputs": [],
   "source": [
    "#Table 2: Movie Name, stars, votes, Genre, Gross collection, popularity, Certification"
   ]
  },
  {
   "cell_type": "code",
   "execution_count": 15,
   "id": "81d78f26",
   "metadata": {},
   "outputs": [],
   "source": [
    "import csv\n",
    "import sqlite3\n",
    "db=sqlite3.connect('movies_database.db')\n",
    "cursor = db.cursor()"
   ]
  },
  {
   "cell_type": "code",
   "execution_count": 16,
   "id": "6f9d671c",
   "metadata": {},
   "outputs": [
    {
     "data": {
      "text/plain": [
       "<sqlite3.Cursor at 0x2386e7195e0>"
      ]
     },
     "execution_count": 16,
     "metadata": {},
     "output_type": "execute_result"
    }
   ],
   "source": [
    "cursor.execute(\"CREATE TABLE MOVIES2g (movie_name TEXT, stars TEXT,votes INT,genre TEXT, gross_collection INT)\")"
   ]
  },
  {
   "cell_type": "code",
   "execution_count": 17,
   "id": "f3c8a5b8",
   "metadata": {},
   "outputs": [],
   "source": [
    "with open('imdb_movies.csv2', 'r', newline='', encoding='utf-8') as csvfile:\n",
    "    csv_reader = csv.reader(csvfile)\n",
    "    next(csv_reader)  \n",
    "\n",
    "    for row in csv_reader:\n",
    "        movie_name = row[0]\n",
    "        stars = row[1]\n",
    "        votes = row[2]\n",
    "        genre = row[3]\n",
    "        gross_collection = row[4]\n",
    "\n",
    "        cursor.execute(\"INSERT INTO movies2g (movie_name, stars, votes, genre, gross_collection) VALUES (?, ?, ?, ?, ?)\",\n",
    "                       (movie_name, stars, votes, genre, gross_collection))\n",
    "        db.commit()\n"
   ]
  },
  {
   "cell_type": "code",
   "execution_count": 18,
   "id": "b455f7d4",
   "metadata": {},
   "outputs": [
    {
     "name": "stdout",
     "output_type": "stream",
     "text": [
      "('The Dark Knight', 'Nolan', '2,744,775', 'Action, Crime, Drama', '$534.86M')\n",
      "('The Lord of the Rings: The Return of the King', 'Goyer', '1,900,422', 'Action, Adventure, Drama', '1,900,422')\n",
      "('Spider-Man: Across the Spider-Verse', 'Eckhart', '189,449', 'Animation, Action, Adventure', '$377.85M')\n",
      "('Inception', 'info', '2,435,767', 'Action, Adventure, Sci-Fi', '189,449')\n",
      "('The Lord of the Rings: The Fellowship of the Ring', 'N/A', '1,928,809', 'Action, Adventure, Drama', '2,435,767')\n",
      "('The Lord of the Rings: The Two Towers', 'N/A', '1,715,043', 'Action, Adventure, Drama', '$292.58M')\n",
      "('The Matrix', 'N/A', '1,972,628', 'Action, Sci-Fi', '1,928,809')\n",
      "('Star Wars: Episode V - The Empire Strikes Back', 'N/A', '1,330,781', 'Action, Adventure, Fantasy', '$315.54M')\n",
      "('Soorarai Pottru', 'total', '120,096', 'Action, Drama', '1,715,043')\n",
      "('Terminator 2: Judgment Day', 'Nolan', '1,131,913', 'Action, Sci-Fi', '$342.55M')\n",
      "('Star Wars: Episode IV - A New Hope', 'Goyer', '1,402,992', 'Action, Adventure, Fantasy', '1,972,628')\n",
      "('Seven Samurai', 'lines.', '355,184', 'Action, Drama', '$171.48M')\n",
      "('Harakiri', 'Chicago.', '62,262', 'Action, Drama, Mystery', '1,330,781')\n",
      "('Sita Ramam', 'free.', '61,511', 'Action, Drama, Mystery', '$290.48M')\n",
      "('Gladiator', 'credits.', '1,547,338', 'Action, Adventure, Drama', '120,096')\n",
      "('Léon: The Professional', 'possible.', '1,198,341', 'Action, Crime, Drama', '1,131,913')\n",
      "('Raiders of the Lost Ark', '(2013)', '1,004,444', 'Action, Adventure', '$204.84M')\n",
      "('Spider-Man: Into the Spider-Verse', 'Department', '610,909', 'Animation, Action, Adventure', '1,402,992')\n",
      "('Avengers: Endgame', 'about?', '1,196,333', 'Action, Adventure, Drama', '$322.74M')\n",
      "('Aliens', 'books?', '737,495', 'Action, Adventure, Sci-Fi', '355,184')\n",
      "('Oldboy', 'film?', '602,062', 'Action, Drama, Mystery', '$0.27M')\n",
      "('The Dark Knight Rises', 'States)', '1,756,238', 'Action, Drama, Thriller', '62,262')\n",
      "('Avengers: Infinity War', 'Kingdom', '1,138,499', 'Action, Adventure, Sci-Fi', '61,511')\n",
      "('Kaithi', 'Bros.', '36,838', 'Action, Adventure, Crime', '1,547,338')\n",
      "('Asuran', 'EnglishMandarin', '31,557', 'Action, Drama', '$187.71M')\n",
      "('Top Gun: Maverick', '2', '611,668', 'Action, Drama', '1,198,341')\n",
      "('Heat', 'Kong', '683,805', 'Action, Crime, Drama', '$19.50M')\n",
      "('Star Wars: Episode VI - Return of the Jedi', 'EntertainmentSyncopy', '1,084,961', 'Action, Adventure, Fantasy', '1,004,444')\n",
      "('Princess Mononoke', '(estimated)', '410,746', 'Animation, Action, Adventure', '$248.16M')\n",
      "('North by Northwest', '$534,987,076', '336,597', 'Action, Adventure, Mystery', '610,909')\n",
      "('Dangal', '2008', '199,258', 'Action, Biography, Drama', '$190.24M')\n",
      "('Kantara', '$1,006,234,167', '96,952', 'Action, Adventure, Drama', '1,196,333')\n",
      "('K.G.F: Chapter 2', 'minutes', '141,104', 'Action, Crime, Drama', '$858.37M')\n",
      "('Vikram', 'DigitalSDDSDTS', '64,850', 'Action, Crime, Thriller', '737,495')\n",
      "('Shershaah', '1', '125,620', 'Action, Biography, Drama', '$85.16M')\n"
     ]
    }
   ],
   "source": [
    "output=cursor.execute(\"SELECT * FROM movies2g \")\n",
    "for row in output:\n",
    "    print(row)"
   ]
  },
  {
   "cell_type": "code",
   "execution_count": 19,
   "id": "3d29c575",
   "metadata": {},
   "outputs": [],
   "source": [
    "#Display all movie names with star Arnold Schwarzenegger in ascending order."
   ]
  },
  {
   "cell_type": "code",
   "execution_count": 20,
   "id": "7c8ee1b9",
   "metadata": {},
   "outputs": [
    {
     "name": "stdout",
     "output_type": "stream",
     "text": [
      "No movies with the star Arnold Schwarzenegger found in the database.\n"
     ]
    }
   ],
   "source": [
    "query_arnold_movies = \"SELECT movie_name FROM movies2g WHERE stars LIKE '%Arnold Schwarzenegger%' ORDER BY movie_name ASC\"\n",
    "\n",
    "cursor.execute(query_arnold_movies)\n",
    "arnold_movies = cursor.fetchall()\n",
    "if arnold_movies:\n",
    "    print(\"Movie Names with the Star Arnold Schwarzenegger (in Ascending Order):\")\n",
    "    for movie_name in arnold_movies:\n",
    "        print(movie_name[0])\n",
    "else:\n",
    "    print(\"No movies with the star Arnold Schwarzenegger found in the database.\")\n"
   ]
  },
  {
   "cell_type": "code",
   "execution_count": 21,
   "id": "299b75b3",
   "metadata": {},
   "outputs": [],
   "source": [
    "#Display all details of the movie with the highest number of votes."
   ]
  },
  {
   "cell_type": "code",
   "execution_count": 22,
   "id": "41b898f5",
   "metadata": {},
   "outputs": [
    {
     "name": "stdout",
     "output_type": "stream",
     "text": [
      "Movie Name: Kantara\n"
     ]
    }
   ],
   "source": [
    "query_highest_votes_movie = \"SELECT * FROM movies2g ORDER BY votes DESC LIMIT 1\"\n",
    "\n",
    "cursor.execute(query_highest_votes_movie)\n",
    "movie_with_highest_votes = cursor.fetchone()\n",
    "if movie_with_highest_votes:\n",
    "    movie_name, stars, votes, genre, gross_collection = movie_with_highest_votes\n",
    "    print(\"Movie Name:\", movie_name)\n",
    "else:\n",
    "    print(\"No movies found in the database.\")    "
   ]
  },
  {
   "cell_type": "code",
   "execution_count": 23,
   "id": "93925f58",
   "metadata": {},
   "outputs": [],
   "source": [
    " #Display movie names with gross collections in descending order."
   ]
  },
  {
   "cell_type": "code",
   "execution_count": 24,
   "id": "fe74f0b1",
   "metadata": {},
   "outputs": [
    {
     "name": "stdout",
     "output_type": "stream",
     "text": [
      "Movie Names and Gross Collections in Descending Order:\n",
      "Vikram: 737,495\n",
      "The Dark Knight Rises: 62,262\n",
      "North by Northwest: 610,909\n",
      "Avengers: Infinity War: 61,511\n",
      "Aliens: 355,184\n",
      "The Lord of the Rings: The Fellowship of the Ring: 2,435,767\n",
      "Inception: 189,449\n",
      "Gladiator: 120,096\n",
      "Star Wars: Episode IV - A New Hope: 1,972,628\n",
      "The Matrix: 1,928,809\n",
      "The Lord of the Rings: The Return of the King: 1,900,422\n",
      "Soorarai Pottru: 1,715,043\n",
      "Kaithi: 1,547,338\n",
      "Spider-Man: Into the Spider-Verse: 1,402,992\n",
      "Harakiri: 1,330,781\n",
      "Top Gun: Maverick: 1,198,341\n",
      "Kantara: 1,196,333\n",
      "Léon: The Professional: 1,131,913\n",
      "Star Wars: Episode VI - Return of the Jedi: 1,004,444\n",
      "K.G.F: Chapter 2: $858.37M\n",
      "Shershaah: $85.16M\n",
      "The Dark Knight: $534.86M\n",
      "Spider-Man: Across the Spider-Verse: $377.85M\n",
      "Terminator 2: Judgment Day: $342.55M\n",
      "Avengers: Endgame: $322.74M\n",
      "Star Wars: Episode V - The Empire Strikes Back: $315.54M\n",
      "The Lord of the Rings: The Two Towers: $292.58M\n",
      "Sita Ramam: $290.48M\n",
      "Princess Mononoke: $248.16M\n",
      "Raiders of the Lost Ark: $204.84M\n",
      "Dangal: $190.24M\n",
      "Heat: $19.50M\n",
      "Asuran: $187.71M\n",
      "Seven Samurai: $171.48M\n",
      "Oldboy: $0.27M\n"
     ]
    }
   ],
   "source": [
    "import sqlite3\n",
    "\n",
    "query_movies_by_gross_collection = \"SELECT movie_name, gross_collection FROM movies2g ORDER BY gross_collection DESC\"\n",
    "\n",
    "cursor.execute(query_movies_by_gross_collection)\n",
    "movies_with_gross_collections = cursor.fetchall()\n",
    "\n",
    "if movies_with_gross_collections:\n",
    "    print(\"Movie Names and Gross Collections in Descending Order:\")\n",
    "    for movie_name, gross_collection in movies_with_gross_collections:\n",
    "        print(f\"{movie_name}: {gross_collection}\")\n",
    "else:\n",
    "    print(\"No movies found in the database.\")\n"
   ]
  },
  {
   "cell_type": "code",
   "execution_count": 25,
   "id": "5678e92b",
   "metadata": {},
   "outputs": [],
   "source": [
    "#Display the gross collection of movies with the star Arnold."
   ]
  },
  {
   "cell_type": "code",
   "execution_count": 26,
   "id": "f8deccf9",
   "metadata": {},
   "outputs": [
    {
     "name": "stdout",
     "output_type": "stream",
     "text": [
      "No movies with the star Arnold found in the database.\n"
     ]
    }
   ],
   "source": [
    "query_arnold_movies_gross = \"SELECT gross_collection FROM movies2g WHERE stars LIKE '%Arnold%'\"\n",
    "\n",
    "cursor.execute(query_arnold_movies_gross)\n",
    "arnold_movies_gross = cursor.fetchall()\n",
    "\n",
    "if arnold_movies_gross:\n",
    "    print(\"Gross Collection of Movies with the Star Arnold:\")\n",
    "    for gross_collection in arnold_movies_gross:\n",
    "        print(gross_collection[0])\n",
    "else:\n",
    "    print(\"No movies with the star Arnold found in the database.\")\n"
   ]
  },
  {
   "cell_type": "code",
   "execution_count": null,
   "id": "46a343c9",
   "metadata": {},
   "outputs": [],
   "source": []
  },
  {
   "cell_type": "code",
   "execution_count": 92,
   "id": "f5728f10",
   "metadata": {},
   "outputs": [],
   "source": [
    "#Make subquery :"
   ]
  },
  {
   "cell_type": "code",
   "execution_count": 68,
   "id": "ce945ba6",
   "metadata": {},
   "outputs": [],
   "source": [
    "#Display all details from both tables where movie names are the same."
   ]
  },
  {
   "cell_type": "code",
   "execution_count": 67,
   "id": "8d15d018",
   "metadata": {},
   "outputs": [
    {
     "name": "stdout",
     "output_type": "stream",
     "text": [
      "All details from MOVIES1i and MOVIES2g where movie names are the same:\n",
      "From MOVIES1i:\n",
      "('Sno', 'Movie_name', 'Duration', 'Year', 'Rating', 'Metascore\\n', None)\n",
      "(1, 'The Dark Knight', '152 min', '(2008)', 9.0, 84, None)\n",
      "(2, 'The Lord of the Rings: The Return of the King', '201 min', '(2003)', 9.0, 94, None)\n",
      "(3, 'Spider-Man: Across the Spider-Verse', '140 min', '(2023)', 8.9, 86, None)\n",
      "(4, 'Inception', '148 min', '(2010)', 8.8, 74, None)\n",
      "(5, 'The Lord of the Rings: The Fellowship of the Ring', '178 min', '(2001)', 8.8, 92, None)\n",
      "(6, 'The Lord of the Rings: The Two Towers', '179 min', '(2002)', 8.8, 87, None)\n",
      "(7, 'The Matrix', '136 min', '(1999)', 8.7, 73, None)\n",
      "(8, 'Star Wars: Episode V - The Empire Strikes Back', '124 min', '(1980)', 8.7, 82, None)\n",
      "(9, 'Soorarai Pottru', '153 min', '(2020)', 8.7, 75, None)\n",
      "(10, 'Terminator 2: Judgment Day', '137 min', '(1991)', 8.6, 90, None)\n",
      "(11, 'Star Wars: Episode IV - A New Hope', '121 min', '(1977)', 8.6, 98, None)\n",
      "(12, 'Seven Samurai', '207 min', '(1954)', 8.6, 85, None)\n",
      "(13, 'Harakiri', '133 min', '(1962)', 8.6, 67, None)\n",
      "(14, 'Sita Ramam', '163 min', '(2022)', 8.6, 64, None)\n",
      "(15, 'Gladiator', '155 min', '(2000)', 8.5, 85, None)\n",
      "(16, 'LÃ©on: The Professional', '110 min', '(1994)', 8.5, 87, None)\n",
      "(17, 'Raiders of the Lost Ark', '115 min', '(1981)', 8.4, 78, None)\n",
      "(18, 'Spider-Man: Into the Spider-Verse', '117 min', '(2018)', 8.4, 84, None)\n",
      "(19, 'Avengers: Endgame', '181 min', '(2019)', 8.4, 77, None)\n",
      "(20, 'Aliens', '137 min', '(1986)', 8.4, 78, None)\n",
      "(21, 'Oldboy', '101 min', '(2003)', 8.4, 68, None)\n",
      "(22, 'The Dark Knight Rises', '164 min', '(2012)', 8.4, 78, None)\n",
      "(23, 'Avengers: Infinity War', '149 min', '(2018)', 8.4, 76, None)\n",
      "(24, 'Kaithi', '145 min', '(2019)', 8.4, 76, None)\n",
      "(25, 'Asuran', '141 min', '(2019)', 8.4, 98, None)\n",
      "(26, 'Top Gun: Maverick', '130 min', '(2022)', 8.3, 65, None)\n",
      "(27, 'Heat', '170 min', '(1995)', 8.3, 71, None)\n",
      "(28, 'Star Wars: Episode VI - Return of the Jedi', '131 min', '(1983)', 8.3, 68, None)\n",
      "(29, 'Princess Mononoke', '134 min', '(1997)', 8.3, 70, None)\n",
      "(30, 'North by Northwest', '136 min', '(1959)', 8.3, 78, None)\n",
      "(31, 'Dangal', '161 min', '(2016)', 8.3, 72, None)\n",
      "(32, 'Kantara', '148 min', '(2022)', 8.3, 69, None)\n",
      "(33, 'K.G.F: Chapter 2', '168 min', '(2022)', 8.3, 62, None)\n",
      "(34, 'Vikram', '175 min', '(2022)', 8.3, 97, None)\n",
      "(35, 'Shershaah', '135 min', '(2021)', 8.3, 72, None)\n",
      "(36, 'Raatchasan', '170 min', '(2018)', 8.3, 89, None)\n",
      "(37, 'Indiana Jones and the Last Crusade', '127 min', '(1989)', 8.2, 93, None)\n",
      "From MOVIES2g:\n",
      "('The Dark Knight', 'Nolan', '2,744,775', 'Action, Crime, Drama', '$534.86M')\n",
      "('The Lord of the Rings: The Return of the King', 'Goyer', '1,900,422', 'Action, Adventure, Drama', '1,900,422')\n",
      "('Spider-Man: Across the Spider-Verse', 'Eckhart', '189,449', 'Animation, Action, Adventure', '$377.85M')\n",
      "('Inception', 'info', '2,435,767', 'Action, Adventure, Sci-Fi', '189,449')\n",
      "('The Lord of the Rings: The Fellowship of the Ring', 'N/A', '1,928,809', 'Action, Adventure, Drama', '2,435,767')\n",
      "('The Lord of the Rings: The Two Towers', 'N/A', '1,715,043', 'Action, Adventure, Drama', '$292.58M')\n",
      "('The Matrix', 'N/A', '1,972,628', 'Action, Sci-Fi', '1,928,809')\n",
      "('Star Wars: Episode V - The Empire Strikes Back', 'N/A', '1,330,781', 'Action, Adventure, Fantasy', '$315.54M')\n",
      "('Soorarai Pottru', 'total', '120,096', 'Action, Drama', '1,715,043')\n",
      "('Terminator 2: Judgment Day', 'Nolan', '1,131,913', 'Action, Sci-Fi', '$342.55M')\n",
      "('Star Wars: Episode IV - A New Hope', 'Goyer', '1,402,992', 'Action, Adventure, Fantasy', '1,972,628')\n",
      "('Seven Samurai', 'lines.', '355,184', 'Action, Drama', '$171.48M')\n",
      "('Harakiri', 'Chicago.', '62,262', 'Action, Drama, Mystery', '1,330,781')\n",
      "('Sita Ramam', 'free.', '61,511', 'Action, Drama, Mystery', '$290.48M')\n",
      "('Gladiator', 'credits.', '1,547,338', 'Action, Adventure, Drama', '120,096')\n",
      "('Léon: The Professional', 'possible.', '1,198,341', 'Action, Crime, Drama', '1,131,913')\n",
      "('Raiders of the Lost Ark', '(2013)', '1,004,444', 'Action, Adventure', '$204.84M')\n",
      "('Spider-Man: Into the Spider-Verse', 'Department', '610,909', 'Animation, Action, Adventure', '1,402,992')\n",
      "('Avengers: Endgame', 'about?', '1,196,333', 'Action, Adventure, Drama', '$322.74M')\n",
      "('Aliens', 'books?', '737,495', 'Action, Adventure, Sci-Fi', '355,184')\n",
      "('Oldboy', 'film?', '602,062', 'Action, Drama, Mystery', '$0.27M')\n",
      "('The Dark Knight Rises', 'States)', '1,756,238', 'Action, Drama, Thriller', '62,262')\n",
      "('Avengers: Infinity War', 'Kingdom', '1,138,499', 'Action, Adventure, Sci-Fi', '61,511')\n",
      "('Kaithi', 'Bros.', '36,838', 'Action, Adventure, Crime', '1,547,338')\n",
      "('Asuran', 'EnglishMandarin', '31,557', 'Action, Drama', '$187.71M')\n",
      "('Top Gun: Maverick', '2', '611,668', 'Action, Drama', '1,198,341')\n",
      "('Heat', 'Kong', '683,805', 'Action, Crime, Drama', '$19.50M')\n",
      "('Star Wars: Episode VI - Return of the Jedi', 'EntertainmentSyncopy', '1,084,961', 'Action, Adventure, Fantasy', '1,004,444')\n",
      "('Princess Mononoke', '(estimated)', '410,746', 'Animation, Action, Adventure', '$248.16M')\n",
      "('North by Northwest', '$534,987,076', '336,597', 'Action, Adventure, Mystery', '610,909')\n",
      "('Dangal', '2008', '199,258', 'Action, Biography, Drama', '$190.24M')\n",
      "('Kantara', '$1,006,234,167', '96,952', 'Action, Adventure, Drama', '1,196,333')\n",
      "('K.G.F: Chapter 2', 'minutes', '141,104', 'Action, Crime, Drama', '$858.37M')\n",
      "('Vikram', 'DigitalSDDSDTS', '64,850', 'Action, Crime, Thriller', '737,495')\n",
      "('Shershaah', '1', '125,620', 'Action, Biography, Drama', '$85.16M')\n"
     ]
    }
   ],
   "source": [
    "import sqlite3\n",
    "\n",
    "connection = sqlite3.connect('movies_database.db')\n",
    "cursor = connection.cursor()\n",
    "\n",
    "cursor.execute(\"\"\"\n",
    "    SELECT *\n",
    "    FROM MOVIES1i\n",
    "    WHERE \"movie name\" IN (SELECT \"movie name\" FROM MOVIES2g)\n",
    "\"\"\")\n",
    "movies1i_results = cursor.fetchall()\n",
    "\n",
    "cursor.execute(\"\"\"\n",
    "    SELECT *\n",
    "    FROM MOVIES2g\n",
    "    WHERE \"movie_name\" IN (SELECT \"movie_name\" FROM MOVIES1i)\n",
    "\"\"\")\n",
    "movies2g_results = cursor.fetchall()\n",
    "\n",
    "if movies1i_results and movies2g_results:\n",
    "    print(\"All details from MOVIES1i and MOVIES2g where movie names are the same:\")\n",
    "    print(\"From MOVIES1i:\")\n",
    "    for row in movies1i_results:\n",
    "        print(row)\n",
    "\n",
    "    print(\"From MOVIES2g:\")\n",
    "    for row in movies2g_results:\n",
    "        print(row)\n",
    "else:\n",
    "    print(\"No movies with the same names found in both tables.\")\n",
    "\n",
    "connection.close()\n"
   ]
  },
  {
   "cell_type": "code",
   "execution_count": 74,
   "id": "5a231ccb",
   "metadata": {},
   "outputs": [],
   "source": [
    "#Display all movie names, Director, ratings, and gross collection where the genre is action"
   ]
  },
  {
   "cell_type": "code",
   "execution_count": 73,
   "id": "3bea1e9f",
   "metadata": {},
   "outputs": [
    {
     "name": "stdout",
     "output_type": "stream",
     "text": [
      "No movies with the genre 'action' found.\n"
     ]
    }
   ],
   "source": [
    "connection = sqlite3.connect('movies_database.db')\n",
    "cursor = connection.cursor()\n",
    "\n",
    "cursor.execute(\"SELECT movie name, rating, NULL AS Director, NULL AS gross_collection FROM MOVIES1i\")\n",
    "movies1i_results = cursor.fetchall()\n",
    "\n",
    "cursor.execute(\"SELECT movie_name, NULL AS rating, stars AS Director, gross_collection FROM MOVIES2g WHERE genre = 'action'\")\n",
    "movies2g_results = cursor.fetchall()\n",
    "all_movie_results = [row for row in movies1i_results if row[0] in [item[0] for item in movies2g_results]]\n",
    "\n",
    "if all_movie_results:\n",
    "    print(\"Movie details with the genre 'action':\")\n",
    "    for movie_name, rating, director, gross_collection in all_movie_results:\n",
    "        print(f\"Movie Name: {movie_name}\")\n",
    "        if director is not None:\n",
    "            print(f\"Director: {director}\")\n",
    "        if rating is not None:\n",
    "            print(f\"Rating: {rating}\")\n",
    "        if gross_collection is not None:\n",
    "            print(f\"Gross Collection: {gross_collection}\")\n",
    "        print()\n",
    "else:\n",
    "    print(\"No movies with the genre 'action' found.\")\n",
    "\n",
    "connection.close()\n"
   ]
  },
  {
   "cell_type": "code",
   "execution_count": 76,
   "id": "9bf7bf13",
   "metadata": {},
   "outputs": [],
   "source": [
    "#    Display all details from both tables with the highest gross collection"
   ]
  },
  {
   "cell_type": "code",
   "execution_count": 75,
   "id": "18602944",
   "metadata": {},
   "outputs": [
    {
     "name": "stdout",
     "output_type": "stream",
     "text": [
      "Details of the movie with the highest gross collection:\n",
      "Movie Name: Vikram\n",
      "Stars: DigitalSDDSDTS\n",
      "Votes: 64,850\n",
      "Genre: Action, Crime, Thriller\n",
      "Gross Collection: 737,495\n",
      "\n"
     ]
    }
   ],
   "source": [
    "connection = sqlite3.connect('movies_database.db')\n",
    "cursor = connection.cursor()\n",
    "\n",
    "cursor.execute(\"SELECT * FROM MOVIES2g ORDER BY gross_collection DESC LIMIT 1\")\n",
    "highest_gross_movie = cursor.fetchall()\n",
    "\n",
    "if highest_gross_movie:\n",
    "    print(\"Details of the movie with the highest gross collection:\")\n",
    "    for row in highest_gross_movie:\n",
    "        print(f\"Movie Name: {row[0]}\")\n",
    "        print(f\"Stars: {row[1]}\")\n",
    "        print(f\"Votes: {row[2]}\")\n",
    "        print(f\"Genre: {row[3]}\")\n",
    "        print(f\"Gross Collection: {row[4]}\")\n",
    "        print()\n",
    "else:\n",
    "    print(\"No movies found in the database.\")\n",
    "\n",
    "\n",
    "connection.close()\n"
   ]
  },
  {
   "cell_type": "code",
   "execution_count": null,
   "id": "40c8965b",
   "metadata": {},
   "outputs": [],
   "source": []
  },
  {
   "cell_type": "code",
   "execution_count": 80,
   "id": "321ed4ce",
   "metadata": {},
   "outputs": [
    {
     "name": "stdout",
     "output_type": "stream",
     "text": [
      "Details of the movie(s) with the highest rating:\n",
      "Movie Name: Movie_name\n",
      "Duration: Duration\n",
      "Year: Year\n",
      "Rating: Rating\n",
      "Metascore: Metascore\n",
      "\n",
      "\n"
     ]
    }
   ],
   "source": [
    "import sqlite3\n",
    "\n",
    "# Establish a connection to the database\n",
    "connection = sqlite3.connect('movies_database.db')\n",
    "cursor = connection.cursor()\n",
    "\n",
    "# Retrieve the movie(s) with the highest rating from MOVIES1i table\n",
    "cursor.execute(\"SELECT * FROM MOVIES1i WHERE rating = (SELECT MAX(rating) FROM MOVIES1i)\")\n",
    "highest_rated_movies1i = cursor.fetchall()\n",
    "\n",
    "# Print the result with the highest rating\n",
    "if highest_rated_movies1i:\n",
    "    print(\"Details of the movie(s) with the highest rating:\")\n",
    "    for row in highest_rated_movies1i:\n",
    "        print(f\"Movie Name: {row[1]}\")\n",
    "        print(f\"Duration: {row[2]}\")\n",
    "        print(f\"Year: {row[3]}\")\n",
    "        print(f\"Rating: {row[4]}\")\n",
    "        print(f\"Metascore: {row[5]}\")\n",
    "        print()\n",
    "else:\n",
    "    print(\"No movies found in the database.\")\n",
    "\n",
    "# Close the connection\n",
    "connection.close()\n"
   ]
  },
  {
   "cell_type": "code",
   "execution_count": 91,
   "id": "5a25a4b0",
   "metadata": {},
   "outputs": [],
   "source": [
    "# Display all details from both tables with the lowest gross collection and lowest ratings"
   ]
  },
  {
   "cell_type": "code",
   "execution_count": 90,
   "id": "16e67895",
   "metadata": {},
   "outputs": [
    {
     "name": "stdout",
     "output_type": "stream",
     "text": [
      "Details of the movie(s) with the lowest gross collection:\n",
      "Movie Name: Sno\n",
      "Stars: Movie_name\n",
      "Votes: Duration\n",
      "Genre: Year\n",
      "Gross Collection: None\n",
      "\n",
      "Movie Name: 1\n",
      "Stars: The Dark Knight\n",
      "Votes: 152 min\n",
      "Genre: (2008)\n",
      "Gross Collection: None\n",
      "\n",
      "Movie Name: 2\n",
      "Stars: The Lord of the Rings: The Return of the King\n",
      "Votes: 201 min\n",
      "Genre: (2003)\n",
      "Gross Collection: None\n",
      "\n",
      "Movie Name: 3\n",
      "Stars: Spider-Man: Across the Spider-Verse\n",
      "Votes: 140 min\n",
      "Genre: (2023)\n",
      "Gross Collection: None\n",
      "\n",
      "Movie Name: 4\n",
      "Stars: Inception\n",
      "Votes: 148 min\n",
      "Genre: (2010)\n",
      "Gross Collection: None\n",
      "\n",
      "Movie Name: 5\n",
      "Stars: The Lord of the Rings: The Fellowship of the Ring\n",
      "Votes: 178 min\n",
      "Genre: (2001)\n",
      "Gross Collection: None\n",
      "\n",
      "Movie Name: 6\n",
      "Stars: The Lord of the Rings: The Two Towers\n",
      "Votes: 179 min\n",
      "Genre: (2002)\n",
      "Gross Collection: None\n",
      "\n",
      "Movie Name: 7\n",
      "Stars: The Matrix\n",
      "Votes: 136 min\n",
      "Genre: (1999)\n",
      "Gross Collection: None\n",
      "\n",
      "Movie Name: 8\n",
      "Stars: Star Wars: Episode V - The Empire Strikes Back\n",
      "Votes: 124 min\n",
      "Genre: (1980)\n",
      "Gross Collection: None\n",
      "\n",
      "Movie Name: 9\n",
      "Stars: Soorarai Pottru\n",
      "Votes: 153 min\n",
      "Genre: (2020)\n",
      "Gross Collection: None\n",
      "\n",
      "Movie Name: 10\n",
      "Stars: Terminator 2: Judgment Day\n",
      "Votes: 137 min\n",
      "Genre: (1991)\n",
      "Gross Collection: None\n",
      "\n",
      "Movie Name: 11\n",
      "Stars: Star Wars: Episode IV - A New Hope\n",
      "Votes: 121 min\n",
      "Genre: (1977)\n",
      "Gross Collection: None\n",
      "\n",
      "Movie Name: 12\n",
      "Stars: Seven Samurai\n",
      "Votes: 207 min\n",
      "Genre: (1954)\n",
      "Gross Collection: None\n",
      "\n",
      "Movie Name: 13\n",
      "Stars: Harakiri\n",
      "Votes: 133 min\n",
      "Genre: (1962)\n",
      "Gross Collection: None\n",
      "\n",
      "Movie Name: 14\n",
      "Stars: Sita Ramam\n",
      "Votes: 163 min\n",
      "Genre: (2022)\n",
      "Gross Collection: None\n",
      "\n",
      "Movie Name: 15\n",
      "Stars: Gladiator\n",
      "Votes: 155 min\n",
      "Genre: (2000)\n",
      "Gross Collection: None\n",
      "\n",
      "Movie Name: 16\n",
      "Stars: LÃ©on: The Professional\n",
      "Votes: 110 min\n",
      "Genre: (1994)\n",
      "Gross Collection: None\n",
      "\n",
      "Movie Name: 17\n",
      "Stars: Raiders of the Lost Ark\n",
      "Votes: 115 min\n",
      "Genre: (1981)\n",
      "Gross Collection: None\n",
      "\n",
      "Movie Name: 18\n",
      "Stars: Spider-Man: Into the Spider-Verse\n",
      "Votes: 117 min\n",
      "Genre: (2018)\n",
      "Gross Collection: None\n",
      "\n",
      "Movie Name: 19\n",
      "Stars: Avengers: Endgame\n",
      "Votes: 181 min\n",
      "Genre: (2019)\n",
      "Gross Collection: None\n",
      "\n",
      "Movie Name: 20\n",
      "Stars: Aliens\n",
      "Votes: 137 min\n",
      "Genre: (1986)\n",
      "Gross Collection: None\n",
      "\n",
      "Movie Name: 21\n",
      "Stars: Oldboy\n",
      "Votes: 101 min\n",
      "Genre: (2003)\n",
      "Gross Collection: None\n",
      "\n",
      "Movie Name: 22\n",
      "Stars: The Dark Knight Rises\n",
      "Votes: 164 min\n",
      "Genre: (2012)\n",
      "Gross Collection: None\n",
      "\n",
      "Movie Name: 23\n",
      "Stars: Avengers: Infinity War\n",
      "Votes: 149 min\n",
      "Genre: (2018)\n",
      "Gross Collection: None\n",
      "\n",
      "Movie Name: 24\n",
      "Stars: Kaithi\n",
      "Votes: 145 min\n",
      "Genre: (2019)\n",
      "Gross Collection: None\n",
      "\n",
      "Movie Name: 25\n",
      "Stars: Asuran\n",
      "Votes: 141 min\n",
      "Genre: (2019)\n",
      "Gross Collection: None\n",
      "\n",
      "Movie Name: 26\n",
      "Stars: Top Gun: Maverick\n",
      "Votes: 130 min\n",
      "Genre: (2022)\n",
      "Gross Collection: None\n",
      "\n",
      "Movie Name: 27\n",
      "Stars: Heat\n",
      "Votes: 170 min\n",
      "Genre: (1995)\n",
      "Gross Collection: None\n",
      "\n",
      "Movie Name: 28\n",
      "Stars: Star Wars: Episode VI - Return of the Jedi\n",
      "Votes: 131 min\n",
      "Genre: (1983)\n",
      "Gross Collection: None\n",
      "\n",
      "Movie Name: 29\n",
      "Stars: Princess Mononoke\n",
      "Votes: 134 min\n",
      "Genre: (1997)\n",
      "Gross Collection: None\n",
      "\n",
      "Movie Name: 30\n",
      "Stars: North by Northwest\n",
      "Votes: 136 min\n",
      "Genre: (1959)\n",
      "Gross Collection: None\n",
      "\n",
      "Movie Name: 31\n",
      "Stars: Dangal\n",
      "Votes: 161 min\n",
      "Genre: (2016)\n",
      "Gross Collection: None\n",
      "\n",
      "Movie Name: 32\n",
      "Stars: Kantara\n",
      "Votes: 148 min\n",
      "Genre: (2022)\n",
      "Gross Collection: None\n",
      "\n",
      "Movie Name: 33\n",
      "Stars: K.G.F: Chapter 2\n",
      "Votes: 168 min\n",
      "Genre: (2022)\n",
      "Gross Collection: None\n",
      "\n",
      "Movie Name: 34\n",
      "Stars: Vikram\n",
      "Votes: 175 min\n",
      "Genre: (2022)\n",
      "Gross Collection: None\n",
      "\n",
      "Movie Name: 35\n",
      "Stars: Shershaah\n",
      "Votes: 135 min\n",
      "Genre: (2021)\n",
      "Gross Collection: None\n",
      "\n",
      "Movie Name: 36\n",
      "Stars: Raatchasan\n",
      "Votes: 170 min\n",
      "Genre: (2018)\n",
      "Gross Collection: None\n",
      "\n",
      "Movie Name: 37\n",
      "Stars: Indiana Jones and the Last Crusade\n",
      "Votes: 127 min\n",
      "Genre: (1989)\n",
      "Gross Collection: None\n",
      "\n",
      "Movie Name: Oldboy\n",
      "Stars: film?\n",
      "Votes: 602,062\n",
      "Genre: Action, Drama, Mystery\n",
      "Gross Collection: $0.27M\n",
      "\n"
     ]
    }
   ],
   "source": [
    "\n",
    "connection = sqlite3.connect('movies_database.db')\n",
    "cursor = connection.cursor()\n",
    "\n",
    "cursor.execute('SELECT MIN(\"gross collection\") FROM MOVIES1i')\n",
    "lowest_gross_movies1i = cursor.fetchone()[0]\n",
    "\n",
    "cursor.execute('SELECT MIN(gross_collection) FROM MOVIES2g')\n",
    "lowest_gross_movies2g = cursor.fetchone()[0]\n",
    "\n",
    "cursor.execute(\"SELECT * FROM MOVIES1i WHERE \\\"gross collection\\\" = ?\", (lowest_gross_movies1i,))\n",
    "lowest_gross_movies1i_details = cursor.fetchall()\n",
    "\n",
    "cursor.execute(\"SELECT * FROM MOVIES2g WHERE gross_collection = ?\", (lowest_gross_movies2g,))\n",
    "lowest_gross_movies2g_details = cursor.fetchall()\n",
    "\n",
    "all_data = lowest_gross_movies1i_details + lowest_gross_movies2g_details\n",
    "\n",
    "\n",
    "if all_data:\n",
    "    print(\"Details of the movie(s) with the lowest gross collection:\")\n",
    "    for row in all_data:\n",
    "        if \"rating\" in row:  \n",
    "            print(f\"Movie Name: {row[1]}\")\n",
    "            print(f\"Duration: {row[2]}\")\n",
    "            print(f\"Year: {row[3]}\")\n",
    "            print(f\"Rating: {row[4]}\")\n",
    "            print(f\"Metascore: {row[5]}\")\n",
    "        else:  \n",
    "            print(f\"Movie Name: {row[0]}\")\n",
    "            print(f\"Stars: {row[1]}\")\n",
    "            print(f\"Votes: {row[2]}\")\n",
    "            print(f\"Genre: {row[3]}\")\n",
    "        print(f\"Gross Collection: {row[-1]}\")\n",
    "        print()\n",
    "else:\n",
    "    print(\"No movies found in the database.\")\n",
    "\n",
    "connection.close()\n"
   ]
  },
  {
   "cell_type": "code",
   "execution_count": null,
   "id": "2baf64cc",
   "metadata": {},
   "outputs": [],
   "source": []
  }
 ],
 "metadata": {
  "kernelspec": {
   "display_name": "Python 3 (ipykernel)",
   "language": "python",
   "name": "python3"
  },
  "language_info": {
   "codemirror_mode": {
    "name": "ipython",
    "version": 3
   },
   "file_extension": ".py",
   "mimetype": "text/x-python",
   "name": "python",
   "nbconvert_exporter": "python",
   "pygments_lexer": "ipython3",
   "version": "3.9.13"
  }
 },
 "nbformat": 4,
 "nbformat_minor": 5
}
